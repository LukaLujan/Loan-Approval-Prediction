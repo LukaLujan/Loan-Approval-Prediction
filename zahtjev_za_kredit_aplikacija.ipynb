{
  "nbformat": 4,
  "nbformat_minor": 0,
  "metadata": {
    "colab": {
      "name": "zahtjev_za_kredit_aplikacija.ipynb",
      "provenance": [],
      "collapsed_sections": [],
      "authorship_tag": "ABX9TyPbJDaY01jCAPi6z36VARf2",
      "include_colab_link": true
    },
    "kernelspec": {
      "name": "python3",
      "display_name": "Python 3"
    },
    "language_info": {
      "name": "python"
    }
  },
  "cells": [
    {
      "cell_type": "markdown",
      "metadata": {
        "id": "view-in-github",
        "colab_type": "text"
      },
      "source": [
        "<a href=\"https://colab.research.google.com/github/LukaLujan/Loan-Approval-Prediction/blob/main/zahtjev_za_kredit_aplikacija.ipynb\" target=\"_parent\"><img src=\"https://colab.research.google.com/assets/colab-badge.svg\" alt=\"Open In Colab\"/></a>"
      ]
    },
    {
      "cell_type": "markdown",
      "source": [
        "Moj osobni projekt , gdje na temelju jednog online dataseta radim aplikaciju koja se temelji na strojnom učenju - aplikacija bi sama procjenjivala pouzdanost da li se nekoj trećoj osobi isplati dati kredit ili ne - na temelju određene baze podataka. Projekt je većinom gotov, pronašli smo najbolji model, ali je potrebna još malo dodatna analiza i te napraviti određeni API. \n",
        "Naravno dataset i nije toliko velik, (614 redaka i 10ak stupaca) ali uz veći data set , na gotovo sličan način se može isto primjeniti i za aplikaciju u realnom svijetu. \n"
      ],
      "metadata": {
        "id": "kEbIAvxoN1EJ"
      }
    },
    {
      "cell_type": "code",
      "execution_count": null,
      "metadata": {
        "colab": {
          "base_uri": "https://localhost:8080/"
        },
        "id": "ZeTJ4ZUMlzof",
        "outputId": "6f496269-ad0b-44b3-8bee-19c60c5bf345"
      },
      "outputs": [
        {
          "output_type": "stream",
          "name": "stdout",
          "text": [
            "Mounted at /content/drive\n"
          ]
        }
      ],
      "source": [
        "from google.colab import drive\n",
        "drive.mount(\"/content/drive\")"
      ]
    },
    {
      "cell_type": "code",
      "source": [
        "%cd drive/MyDrive/"
      ],
      "metadata": {
        "colab": {
          "base_uri": "https://localhost:8080/"
        },
        "id": "yJ9Dapf-mH5i",
        "outputId": "ec985089-a4a2-48ff-98b9-0d635863e6bb"
      },
      "execution_count": null,
      "outputs": [
        {
          "output_type": "stream",
          "name": "stdout",
          "text": [
            "/content/drive/MyDrive\n"
          ]
        }
      ]
    },
    {
      "cell_type": "code",
      "source": [
        "#Uvozimo početni alat\n",
        "\n",
        "import pandas as pd\n",
        "import numpy as np\n",
        "import matplotlib.pyplot as plt\n",
        "import seaborn as sns\n",
        "%matplotlib inline"
      ],
      "metadata": {
        "id": "VPz-QBe2mLvX"
      },
      "execution_count": null,
      "outputs": []
    },
    {
      "cell_type": "code",
      "source": [
        "#lodanje data_seta sa kaggle-a\n",
        "df =pd.read_csv(\"train_loan.csv\")"
      ],
      "metadata": {
        "id": "fes66vZmmSxx"
      },
      "execution_count": null,
      "outputs": []
    },
    {
      "cell_type": "code",
      "source": [
        "print(len(df))\n",
        "df.head()"
      ],
      "metadata": {
        "colab": {
          "base_uri": "https://localhost:8080/",
          "height": 225
        },
        "id": "X9ZEMmA_mZ7P",
        "outputId": "338d7152-2142-4b6b-b69e-62c19b6a7ba6"
      },
      "execution_count": null,
      "outputs": [
        {
          "output_type": "stream",
          "name": "stdout",
          "text": [
            "614\n"
          ]
        },
        {
          "output_type": "execute_result",
          "data": {
            "text/plain": [
              "    Loan_ID Gender Married Dependents     Education Self_Employed  \\\n",
              "0  LP001002   Male      No          0      Graduate            No   \n",
              "1  LP001003   Male     Yes          1      Graduate            No   \n",
              "2  LP001005   Male     Yes          0      Graduate           Yes   \n",
              "3  LP001006   Male     Yes          0  Not Graduate            No   \n",
              "4  LP001008   Male      No          0      Graduate            No   \n",
              "\n",
              "   ApplicantIncome  CoapplicantIncome  LoanAmount  Loan_Amount_Term  \\\n",
              "0             5849                0.0         NaN             360.0   \n",
              "1             4583             1508.0       128.0             360.0   \n",
              "2             3000                0.0        66.0             360.0   \n",
              "3             2583             2358.0       120.0             360.0   \n",
              "4             6000                0.0       141.0             360.0   \n",
              "\n",
              "   Credit_History Property_Area Loan_Status  \n",
              "0             1.0         Urban           Y  \n",
              "1             1.0         Rural           N  \n",
              "2             1.0         Urban           Y  \n",
              "3             1.0         Urban           Y  \n",
              "4             1.0         Urban           Y  "
            ],
            "text/html": [
              "<div>\n",
              "<style scoped>\n",
              "    .dataframe tbody tr th:only-of-type {\n",
              "        vertical-align: middle;\n",
              "    }\n",
              "\n",
              "    .dataframe tbody tr th {\n",
              "        vertical-align: top;\n",
              "    }\n",
              "\n",
              "    .dataframe thead th {\n",
              "        text-align: right;\n",
              "    }\n",
              "</style>\n",
              "<table border=\"1\" class=\"dataframe\">\n",
              "  <thead>\n",
              "    <tr style=\"text-align: right;\">\n",
              "      <th></th>\n",
              "      <th>Loan_ID</th>\n",
              "      <th>Gender</th>\n",
              "      <th>Married</th>\n",
              "      <th>Dependents</th>\n",
              "      <th>Education</th>\n",
              "      <th>Self_Employed</th>\n",
              "      <th>ApplicantIncome</th>\n",
              "      <th>CoapplicantIncome</th>\n",
              "      <th>LoanAmount</th>\n",
              "      <th>Loan_Amount_Term</th>\n",
              "      <th>Credit_History</th>\n",
              "      <th>Property_Area</th>\n",
              "      <th>Loan_Status</th>\n",
              "    </tr>\n",
              "  </thead>\n",
              "  <tbody>\n",
              "    <tr>\n",
              "      <th>0</th>\n",
              "      <td>LP001002</td>\n",
              "      <td>Male</td>\n",
              "      <td>No</td>\n",
              "      <td>0</td>\n",
              "      <td>Graduate</td>\n",
              "      <td>No</td>\n",
              "      <td>5849</td>\n",
              "      <td>0.0</td>\n",
              "      <td>NaN</td>\n",
              "      <td>360.0</td>\n",
              "      <td>1.0</td>\n",
              "      <td>Urban</td>\n",
              "      <td>Y</td>\n",
              "    </tr>\n",
              "    <tr>\n",
              "      <th>1</th>\n",
              "      <td>LP001003</td>\n",
              "      <td>Male</td>\n",
              "      <td>Yes</td>\n",
              "      <td>1</td>\n",
              "      <td>Graduate</td>\n",
              "      <td>No</td>\n",
              "      <td>4583</td>\n",
              "      <td>1508.0</td>\n",
              "      <td>128.0</td>\n",
              "      <td>360.0</td>\n",
              "      <td>1.0</td>\n",
              "      <td>Rural</td>\n",
              "      <td>N</td>\n",
              "    </tr>\n",
              "    <tr>\n",
              "      <th>2</th>\n",
              "      <td>LP001005</td>\n",
              "      <td>Male</td>\n",
              "      <td>Yes</td>\n",
              "      <td>0</td>\n",
              "      <td>Graduate</td>\n",
              "      <td>Yes</td>\n",
              "      <td>3000</td>\n",
              "      <td>0.0</td>\n",
              "      <td>66.0</td>\n",
              "      <td>360.0</td>\n",
              "      <td>1.0</td>\n",
              "      <td>Urban</td>\n",
              "      <td>Y</td>\n",
              "    </tr>\n",
              "    <tr>\n",
              "      <th>3</th>\n",
              "      <td>LP001006</td>\n",
              "      <td>Male</td>\n",
              "      <td>Yes</td>\n",
              "      <td>0</td>\n",
              "      <td>Not Graduate</td>\n",
              "      <td>No</td>\n",
              "      <td>2583</td>\n",
              "      <td>2358.0</td>\n",
              "      <td>120.0</td>\n",
              "      <td>360.0</td>\n",
              "      <td>1.0</td>\n",
              "      <td>Urban</td>\n",
              "      <td>Y</td>\n",
              "    </tr>\n",
              "    <tr>\n",
              "      <th>4</th>\n",
              "      <td>LP001008</td>\n",
              "      <td>Male</td>\n",
              "      <td>No</td>\n",
              "      <td>0</td>\n",
              "      <td>Graduate</td>\n",
              "      <td>No</td>\n",
              "      <td>6000</td>\n",
              "      <td>0.0</td>\n",
              "      <td>141.0</td>\n",
              "      <td>360.0</td>\n",
              "      <td>1.0</td>\n",
              "      <td>Urban</td>\n",
              "      <td>Y</td>\n",
              "    </tr>\n",
              "  </tbody>\n",
              "</table>\n",
              "</div>"
            ]
          },
          "metadata": {},
          "execution_count": 5
        }
      ]
    },
    {
      "cell_type": "code",
      "source": [
        "#prvi pregled, koliko ima missing , što su kategorijske a što brojčane varijable\n",
        "df.info()"
      ],
      "metadata": {
        "colab": {
          "base_uri": "https://localhost:8080/"
        },
        "id": "oeWfrI92P5-4",
        "outputId": "fde7f96e-6b7c-4a29-a093-8fa58912331e"
      },
      "execution_count": null,
      "outputs": [
        {
          "output_type": "stream",
          "name": "stdout",
          "text": [
            "<class 'pandas.core.frame.DataFrame'>\n",
            "RangeIndex: 614 entries, 0 to 613\n",
            "Data columns (total 13 columns):\n",
            " #   Column             Non-Null Count  Dtype  \n",
            "---  ------             --------------  -----  \n",
            " 0   Loan_ID            614 non-null    object \n",
            " 1   Gender             601 non-null    object \n",
            " 2   Married            611 non-null    object \n",
            " 3   Dependents         599 non-null    object \n",
            " 4   Education          614 non-null    object \n",
            " 5   Self_Employed      582 non-null    object \n",
            " 6   ApplicantIncome    614 non-null    int64  \n",
            " 7   CoapplicantIncome  614 non-null    float64\n",
            " 8   LoanAmount         592 non-null    float64\n",
            " 9   Loan_Amount_Term   600 non-null    float64\n",
            " 10  Credit_History     564 non-null    float64\n",
            " 11  Property_Area      614 non-null    object \n",
            " 12  Loan_Status        614 non-null    object \n",
            "dtypes: float64(4), int64(1), object(8)\n",
            "memory usage: 62.5+ KB\n"
          ]
        }
      ]
    },
    {
      "cell_type": "code",
      "source": [
        "#gdje nedostaju podaci\n",
        "df.isnull().sum()"
      ],
      "metadata": {
        "colab": {
          "base_uri": "https://localhost:8080/"
        },
        "id": "C1Ogkxux3ZNT",
        "outputId": "c8c74a1f-4e3b-416a-a0e3-14247f849603"
      },
      "execution_count": null,
      "outputs": [
        {
          "output_type": "execute_result",
          "data": {
            "text/plain": [
              "Loan_ID               0\n",
              "Gender               13\n",
              "Married               3\n",
              "Dependents           15\n",
              "Education             0\n",
              "Self_Employed        32\n",
              "ApplicantIncome       0\n",
              "CoapplicantIncome     0\n",
              "LoanAmount           22\n",
              "Loan_Amount_Term     14\n",
              "Credit_History       50\n",
              "Property_Area         0\n",
              "Loan_Status           0\n",
              "dtype: int64"
            ]
          },
          "metadata": {},
          "execution_count": 7
        }
      ]
    },
    {
      "cell_type": "code",
      "source": [
        "#statistički podaci pojedinih varijabli, detalje ćemo analizirati\n",
        "df.describe()"
      ],
      "metadata": {
        "colab": {
          "base_uri": "https://localhost:8080/",
          "height": 300
        },
        "id": "XCRQmeTUmnlF",
        "outputId": "222b58aa-e0d9-4a7e-e089-ae704f1f09d5"
      },
      "execution_count": null,
      "outputs": [
        {
          "output_type": "execute_result",
          "data": {
            "text/plain": [
              "       ApplicantIncome  CoapplicantIncome  LoanAmount  Loan_Amount_Term  \\\n",
              "count       614.000000         614.000000  592.000000         600.00000   \n",
              "mean       5403.459283        1621.245798  146.412162         342.00000   \n",
              "std        6109.041673        2926.248369   85.587325          65.12041   \n",
              "min         150.000000           0.000000    9.000000          12.00000   \n",
              "25%        2877.500000           0.000000  100.000000         360.00000   \n",
              "50%        3812.500000        1188.500000  128.000000         360.00000   \n",
              "75%        5795.000000        2297.250000  168.000000         360.00000   \n",
              "max       81000.000000       41667.000000  700.000000         480.00000   \n",
              "\n",
              "       Credit_History  \n",
              "count      564.000000  \n",
              "mean         0.842199  \n",
              "std          0.364878  \n",
              "min          0.000000  \n",
              "25%          1.000000  \n",
              "50%          1.000000  \n",
              "75%          1.000000  \n",
              "max          1.000000  "
            ],
            "text/html": [
              "<div>\n",
              "<style scoped>\n",
              "    .dataframe tbody tr th:only-of-type {\n",
              "        vertical-align: middle;\n",
              "    }\n",
              "\n",
              "    .dataframe tbody tr th {\n",
              "        vertical-align: top;\n",
              "    }\n",
              "\n",
              "    .dataframe thead th {\n",
              "        text-align: right;\n",
              "    }\n",
              "</style>\n",
              "<table border=\"1\" class=\"dataframe\">\n",
              "  <thead>\n",
              "    <tr style=\"text-align: right;\">\n",
              "      <th></th>\n",
              "      <th>ApplicantIncome</th>\n",
              "      <th>CoapplicantIncome</th>\n",
              "      <th>LoanAmount</th>\n",
              "      <th>Loan_Amount_Term</th>\n",
              "      <th>Credit_History</th>\n",
              "    </tr>\n",
              "  </thead>\n",
              "  <tbody>\n",
              "    <tr>\n",
              "      <th>count</th>\n",
              "      <td>614.000000</td>\n",
              "      <td>614.000000</td>\n",
              "      <td>592.000000</td>\n",
              "      <td>600.00000</td>\n",
              "      <td>564.000000</td>\n",
              "    </tr>\n",
              "    <tr>\n",
              "      <th>mean</th>\n",
              "      <td>5403.459283</td>\n",
              "      <td>1621.245798</td>\n",
              "      <td>146.412162</td>\n",
              "      <td>342.00000</td>\n",
              "      <td>0.842199</td>\n",
              "    </tr>\n",
              "    <tr>\n",
              "      <th>std</th>\n",
              "      <td>6109.041673</td>\n",
              "      <td>2926.248369</td>\n",
              "      <td>85.587325</td>\n",
              "      <td>65.12041</td>\n",
              "      <td>0.364878</td>\n",
              "    </tr>\n",
              "    <tr>\n",
              "      <th>min</th>\n",
              "      <td>150.000000</td>\n",
              "      <td>0.000000</td>\n",
              "      <td>9.000000</td>\n",
              "      <td>12.00000</td>\n",
              "      <td>0.000000</td>\n",
              "    </tr>\n",
              "    <tr>\n",
              "      <th>25%</th>\n",
              "      <td>2877.500000</td>\n",
              "      <td>0.000000</td>\n",
              "      <td>100.000000</td>\n",
              "      <td>360.00000</td>\n",
              "      <td>1.000000</td>\n",
              "    </tr>\n",
              "    <tr>\n",
              "      <th>50%</th>\n",
              "      <td>3812.500000</td>\n",
              "      <td>1188.500000</td>\n",
              "      <td>128.000000</td>\n",
              "      <td>360.00000</td>\n",
              "      <td>1.000000</td>\n",
              "    </tr>\n",
              "    <tr>\n",
              "      <th>75%</th>\n",
              "      <td>5795.000000</td>\n",
              "      <td>2297.250000</td>\n",
              "      <td>168.000000</td>\n",
              "      <td>360.00000</td>\n",
              "      <td>1.000000</td>\n",
              "    </tr>\n",
              "    <tr>\n",
              "      <th>max</th>\n",
              "      <td>81000.000000</td>\n",
              "      <td>41667.000000</td>\n",
              "      <td>700.000000</td>\n",
              "      <td>480.00000</td>\n",
              "      <td>1.000000</td>\n",
              "    </tr>\n",
              "  </tbody>\n",
              "</table>\n",
              "</div>"
            ]
          },
          "metadata": {},
          "execution_count": 8
        }
      ]
    },
    {
      "cell_type": "code",
      "source": [
        "#promjena imena stupova u Hrvatski jezik;\n",
        "df.rename(columns = {'Loan_ID':'Kreditni_Broj','Gender':'Spol', 'Married':'Bračni_Status','Dependents':'Broj_Djece', 'Education':'Fakultet','Self_Employed':'Samo_Zaposlen', 'ApplicantIncome':'Mjesečni_Prihod',\n",
        "'CoapplicantIncome':'Prihod_Jamca', 'LoanAmount':'Iznos_Kredita', 'Loan_Amount_Term':'Vremenski_Period', 'LoanAmount':'Iznos_Kredita', 'Credit_History':'Kreditna_Povijest','Property_Area':'Vrsta_Naselja','Loan_Status':'Kreditni_Status'}, inplace = True)"
      ],
      "metadata": {
        "id": "mZ99IBF2my_c"
      },
      "execution_count": null,
      "outputs": []
    },
    {
      "cell_type": "code",
      "source": [
        "df.head()"
      ],
      "metadata": {
        "colab": {
          "base_uri": "https://localhost:8080/",
          "height": 206
        },
        "id": "iR7VMDkxpwF4",
        "outputId": "d8e73d4a-68a2-4766-d328-bbcaccd94f31"
      },
      "execution_count": null,
      "outputs": [
        {
          "output_type": "execute_result",
          "data": {
            "text/plain": [
              "  Kreditni_Broj  Spol Bračni_Status Broj_Djece      Fakultet Samo_Zaposlen  \\\n",
              "0      LP001002  Male            No          0      Graduate            No   \n",
              "1      LP001003  Male           Yes          1      Graduate            No   \n",
              "2      LP001005  Male           Yes          0      Graduate           Yes   \n",
              "3      LP001006  Male           Yes          0  Not Graduate            No   \n",
              "4      LP001008  Male            No          0      Graduate            No   \n",
              "\n",
              "   Mjesečni_Prihod  Prihod_Jamca  Iznos_Kredita  Vremenski_Period  \\\n",
              "0             5849           0.0            NaN             360.0   \n",
              "1             4583        1508.0          128.0             360.0   \n",
              "2             3000           0.0           66.0             360.0   \n",
              "3             2583        2358.0          120.0             360.0   \n",
              "4             6000           0.0          141.0             360.0   \n",
              "\n",
              "   Kreditna_Povijest Vrsta_Naselja Kreditni_Status  \n",
              "0                1.0         Urban               Y  \n",
              "1                1.0         Rural               N  \n",
              "2                1.0         Urban               Y  \n",
              "3                1.0         Urban               Y  \n",
              "4                1.0         Urban               Y  "
            ],
            "text/html": [
              "<div>\n",
              "<style scoped>\n",
              "    .dataframe tbody tr th:only-of-type {\n",
              "        vertical-align: middle;\n",
              "    }\n",
              "\n",
              "    .dataframe tbody tr th {\n",
              "        vertical-align: top;\n",
              "    }\n",
              "\n",
              "    .dataframe thead th {\n",
              "        text-align: right;\n",
              "    }\n",
              "</style>\n",
              "<table border=\"1\" class=\"dataframe\">\n",
              "  <thead>\n",
              "    <tr style=\"text-align: right;\">\n",
              "      <th></th>\n",
              "      <th>Kreditni_Broj</th>\n",
              "      <th>Spol</th>\n",
              "      <th>Bračni_Status</th>\n",
              "      <th>Broj_Djece</th>\n",
              "      <th>Fakultet</th>\n",
              "      <th>Samo_Zaposlen</th>\n",
              "      <th>Mjesečni_Prihod</th>\n",
              "      <th>Prihod_Jamca</th>\n",
              "      <th>Iznos_Kredita</th>\n",
              "      <th>Vremenski_Period</th>\n",
              "      <th>Kreditna_Povijest</th>\n",
              "      <th>Vrsta_Naselja</th>\n",
              "      <th>Kreditni_Status</th>\n",
              "    </tr>\n",
              "  </thead>\n",
              "  <tbody>\n",
              "    <tr>\n",
              "      <th>0</th>\n",
              "      <td>LP001002</td>\n",
              "      <td>Male</td>\n",
              "      <td>No</td>\n",
              "      <td>0</td>\n",
              "      <td>Graduate</td>\n",
              "      <td>No</td>\n",
              "      <td>5849</td>\n",
              "      <td>0.0</td>\n",
              "      <td>NaN</td>\n",
              "      <td>360.0</td>\n",
              "      <td>1.0</td>\n",
              "      <td>Urban</td>\n",
              "      <td>Y</td>\n",
              "    </tr>\n",
              "    <tr>\n",
              "      <th>1</th>\n",
              "      <td>LP001003</td>\n",
              "      <td>Male</td>\n",
              "      <td>Yes</td>\n",
              "      <td>1</td>\n",
              "      <td>Graduate</td>\n",
              "      <td>No</td>\n",
              "      <td>4583</td>\n",
              "      <td>1508.0</td>\n",
              "      <td>128.0</td>\n",
              "      <td>360.0</td>\n",
              "      <td>1.0</td>\n",
              "      <td>Rural</td>\n",
              "      <td>N</td>\n",
              "    </tr>\n",
              "    <tr>\n",
              "      <th>2</th>\n",
              "      <td>LP001005</td>\n",
              "      <td>Male</td>\n",
              "      <td>Yes</td>\n",
              "      <td>0</td>\n",
              "      <td>Graduate</td>\n",
              "      <td>Yes</td>\n",
              "      <td>3000</td>\n",
              "      <td>0.0</td>\n",
              "      <td>66.0</td>\n",
              "      <td>360.0</td>\n",
              "      <td>1.0</td>\n",
              "      <td>Urban</td>\n",
              "      <td>Y</td>\n",
              "    </tr>\n",
              "    <tr>\n",
              "      <th>3</th>\n",
              "      <td>LP001006</td>\n",
              "      <td>Male</td>\n",
              "      <td>Yes</td>\n",
              "      <td>0</td>\n",
              "      <td>Not Graduate</td>\n",
              "      <td>No</td>\n",
              "      <td>2583</td>\n",
              "      <td>2358.0</td>\n",
              "      <td>120.0</td>\n",
              "      <td>360.0</td>\n",
              "      <td>1.0</td>\n",
              "      <td>Urban</td>\n",
              "      <td>Y</td>\n",
              "    </tr>\n",
              "    <tr>\n",
              "      <th>4</th>\n",
              "      <td>LP001008</td>\n",
              "      <td>Male</td>\n",
              "      <td>No</td>\n",
              "      <td>0</td>\n",
              "      <td>Graduate</td>\n",
              "      <td>No</td>\n",
              "      <td>6000</td>\n",
              "      <td>0.0</td>\n",
              "      <td>141.0</td>\n",
              "      <td>360.0</td>\n",
              "      <td>1.0</td>\n",
              "      <td>Urban</td>\n",
              "      <td>Y</td>\n",
              "    </tr>\n",
              "  </tbody>\n",
              "</table>\n",
              "</div>"
            ]
          },
          "metadata": {},
          "execution_count": 10
        }
      ]
    },
    {
      "cell_type": "code",
      "source": [
        "df.loc[df[\"Prihod_Jamca\"]!=0][\"Prihod_Jamca\"].mean()"
      ],
      "metadata": {
        "colab": {
          "base_uri": "https://localhost:8080/"
        },
        "id": "mBNFX7Rkzt4D",
        "outputId": "f87cc1fe-0bb4-4ba7-f796-cd001951beb3"
      },
      "execution_count": null,
      "outputs": [
        {
          "output_type": "execute_result",
          "data": {
            "text/plain": [
              "2919.1933137496776"
            ]
          },
          "metadata": {},
          "execution_count": 11
        }
      ]
    },
    {
      "cell_type": "code",
      "source": [
        "df.loc[df[\"Prihod_Jamca\"]!=0][\"Mjesečni_Prihod\"].mean()"
      ],
      "metadata": {
        "colab": {
          "base_uri": "https://localhost:8080/"
        },
        "id": "E5nyefZUODRq",
        "outputId": "112b8c9f-8a93-45ae-d5dd-742ce2cdb746"
      },
      "execution_count": null,
      "outputs": [
        {
          "output_type": "execute_result",
          "data": {
            "text/plain": [
              "3993.032258064516"
            ]
          },
          "metadata": {},
          "execution_count": 12
        }
      ]
    },
    {
      "cell_type": "code",
      "source": [
        ""
      ],
      "metadata": {
        "id": "p5YQnxwH0KT7"
      },
      "execution_count": null,
      "outputs": []
    },
    {
      "cell_type": "code",
      "source": [
        "df[\"Spol\"].replace({\"Male\": \"M\", \"Female\": \"Ž\"}, inplace=True)"
      ],
      "metadata": {
        "id": "d0qFeE3kqScl"
      },
      "execution_count": null,
      "outputs": []
    },
    {
      "cell_type": "code",
      "source": [
        "df[\"Bračni_Status\"].replace({\"No\": \"Ne\", \"Yes\": \"Da\"}, inplace=True)"
      ],
      "metadata": {
        "id": "PiqNNLcSpwx6"
      },
      "execution_count": null,
      "outputs": []
    },
    {
      "cell_type": "code",
      "source": [
        "df[\"Fakultet\"].replace({\"Not Graduate\": \"Ne\", \"Graduate\": \"Da\"}, inplace=True)"
      ],
      "metadata": {
        "id": "ZJw6jho64teC"
      },
      "execution_count": null,
      "outputs": []
    },
    {
      "cell_type": "code",
      "source": [
        "df[\"Broj_Djece\"].replace({\"0\": 0, \"1\": 1 , \"2\": 2 ,\"3+\": 3}, inplace=True)\n"
      ],
      "metadata": {
        "id": "vsTcfLKF0XNs"
      },
      "execution_count": null,
      "outputs": []
    },
    {
      "cell_type": "code",
      "source": [
        "df[\"Samo_Zaposlen\"].replace({\"No\": \"Ne\", \"Yes\": \"Da\"}, inplace=True)"
      ],
      "metadata": {
        "id": "XKuJ9H1ZAXxt"
      },
      "execution_count": null,
      "outputs": []
    },
    {
      "cell_type": "code",
      "source": [
        "df[\"Vrsta_Naselja\"].replace({\"Urban\": \"Grad\", \"Semiurban\": \"Predgrađe\" , \"Rural \":\"Selo\"}, inplace=True)"
      ],
      "metadata": {
        "id": "6fbC0ZOoAfY4"
      },
      "execution_count": null,
      "outputs": []
    },
    {
      "cell_type": "markdown",
      "source": [
        "Ako bi htjeli vidjeti kako ovo izgleda u situaciji Hrvatske morali smo pretvoriti Američke numeričke novčane vrijednosti tipa $ u kune. Naravno da najlakši način je uzeti tečaj na HNBu i prebaciti. \n",
        "Međutim ne ide to tako u ekonomiji. Ja sam za baznu godinu uzeo 2019. Pogledao sam stanje tečaja u toj godini. Zatim sam našao razliku između PPPa Hrvatske ekonomije i Američke. Naime PPP ne mjeri \n",
        "samo bdp/capita, nego u obzir uzima kupovnu moć i troškove. Nisu isti troškovi života u RH i USA. u USA su neke stvari jeftinije tipa gorivo, međutim školovanje, nekretnine, i zdravstvo je po nekoliko desetaka\n",
        "puta skuplje nego u RH naprimjer. I onda sam tako napravio konverziju i dobio sam naprimjer prosječne Hrvatske plaće u PPPu. Naravno nije niti to \"idealno\" ali je dosta preciznija mjera."
      ],
      "metadata": {
        "id": "KEp1wvytZBNg"
      }
    },
    {
      "cell_type": "code",
      "source": [
        "df[\"Kreditni_Status\"].replace({\"Y\": \"Pozitivan\", \"N\": \"Negativan\"}, inplace=True)"
      ],
      "metadata": {
        "id": "vGCoCE65BLzo"
      },
      "execution_count": null,
      "outputs": []
    },
    {
      "cell_type": "code",
      "source": [
        "N#https://www.statista.com/statistics/243842/annual-mean-wages-and-salary-per-employee-in-the-us/\n",
        "\n",
        "#2019 -66 800  -year  - montly  5567$\n",
        "\n",
        "#https://www.teb.hr/novosti/2020/prosjecna-mjesecna-isplacena-neto-placa-i-bruto-placa-po-zaposlenome-u-pravnim-osobama-republike-hrvatske-za-2019-nar-nov-br-2420/\n",
        "\n",
        "#prosječna neto plaća 2019 , 6450 kn =980$\n",
        "\n",
        "#5567/980 =5.68 puta veća plaća u dolarima - nominalno\n",
        "# u PPPu , Hrvatska plaća radi troškova u prosjeku dva puta više vrijedi u odnosu na USA, to je 1960$, ili 2.84x \n",
        "\n",
        "#1$ 6.6kn 2019godina\n",
        "\n",
        "#https://data.worldbank.org/indicator/NY.GDP.PCAP.PP.CD?locations=HR bdp ppp 30k $ 2019\n",
        "#https://data.worldbank.org/indicator/NY.GDP.PCAP.CD?locations=HR     bdp nominal 15$ 2019"
      ],
      "metadata": {
        "id": "9zq0vmXNGuMs"
      },
      "execution_count": null,
      "outputs": []
    },
    {
      "cell_type": "code",
      "source": [
        "#dakle Američku plaću treba srezati na Hrvatsku PPP razinu(smanjiti je za 2.84 puta) zatim je pretvoriti u Kune po tečaju iz 2019"
      ],
      "metadata": {
        "id": "SMeANOL3Wvit"
      },
      "execution_count": null,
      "outputs": []
    },
    {
      "cell_type": "markdown",
      "source": [
        "Sada kada smo dobili da je USA BDP/capita 2.84 puta veći od Hrvatskog ,a dolar 6.6 puta(bazna godina 2019) napravili smo brojčane korekcije. Prvo smo pomnožili Američke plaće sa 6.6 i dobili smo ih u Kunama. Zatim smo ih podijelili sa 2.84 i dobili smo otprilike omjer Hrvatskih PPP plaća u odnosu na Američki standard. \n"
      ],
      "metadata": {
        "id": "b8gE_tPAZKcV"
      }
    },
    {
      "cell_type": "code",
      "source": [
        "df[\"Mjesečni_Prihod_PPP\"]=df[\"Mjesečni_Prihod\"].apply(lambda x: round(x/2.84*6.6))"
      ],
      "metadata": {
        "id": "d7iEoak6XypQ"
      },
      "execution_count": null,
      "outputs": []
    },
    {
      "cell_type": "code",
      "source": [
        "df[\"Prihod_Jamca_PPP\"]=df[\"Prihod_Jamca\"].apply(lambda x: round(x/2.84*6.6))"
      ],
      "metadata": {
        "id": "AfjkQOtiePHr"
      },
      "execution_count": null,
      "outputs": []
    },
    {
      "cell_type": "code",
      "source": [
        "df[\"Iznos_Kredita_PPP\"]=df[\"Iznos_Kredita\"].map(lambda x: round(x/2.84*6.6), na_action='ignore')          "
      ],
      "metadata": {
        "id": "E7fd5066eUgc"
      },
      "execution_count": null,
      "outputs": []
    },
    {
      "cell_type": "code",
      "source": [
        "df.drop(columns=[\"Kreditni_Broj\", \"Mjesečni_Prihod\", \"Prihod_Jamca\", \"Iznos_Kredita\"], axis=1, inplace=True)"
      ],
      "metadata": {
        "id": "Uxl9AN2kQEgt"
      },
      "execution_count": null,
      "outputs": []
    },
    {
      "cell_type": "code",
      "source": [
        "#Iz ovoga se vidi da spol nije kritična varijabla za vraćanje kredita\n",
        "sns.countplot(x=\"Spol\",  hue=\"Kreditni_Status\" ,data=df)"
      ],
      "metadata": {
        "colab": {
          "base_uri": "https://localhost:8080/",
          "height": 298
        },
        "id": "GYJC8YRqk4k4",
        "outputId": "e96606e9-bc76-4406-a3e4-db91b106ffbf"
      },
      "execution_count": null,
      "outputs": [
        {
          "output_type": "execute_result",
          "data": {
            "text/plain": [
              "<matplotlib.axes._subplots.AxesSubplot at 0x7f5ead249c10>"
            ]
          },
          "metadata": {},
          "execution_count": 134
        },
        {
          "output_type": "display_data",
          "data": {
            "text/plain": [
              "<Figure size 432x288 with 1 Axes>"
            ],
            "image/png": "[encoded data removed]"
          },
          "metadata": {
            "needs_background": "light"
          }
        }
      ]
    },
    {
      "cell_type": "markdown",
      "source": [
        "Da bi grafički vidjeli da li broj djece utječe na sposobnost vraćanja kredita morao sam obaviti nekoliko koraka. Zaključak je da postoji neka manja korelacija"
      ],
      "metadata": {
        "id": "TsZyQl3vb0b2"
      }
    },
    {
      "cell_type": "code",
      "source": [
        "\n",
        "Zero =round(df.loc[df[\"Broj_Djece\"]==0][\"Kreditni_Status\"].value_counts(normalize=True),2)[1]\n",
        "One =round(df.loc[df[\"Broj_Djece\"]==1][\"Kreditni_Status\"].value_counts(normalize=True),2)[1]\n",
        "Twos =round(df.loc[df[\"Broj_Djece\"]==2][\"Kreditni_Status\"].value_counts(normalize=True),2)[1]\n",
        "Three_plus =round(df.loc[df[\"Broj_Djece\"]==3][\"Kreditni_Status\"].value_counts(normalize=True),2)[1]"
      ],
      "metadata": {
        "id": "PhRhnOBZnC9u"
      },
      "execution_count": null,
      "outputs": []
    },
    {
      "cell_type": "code",
      "source": [
        "print(Zero, One, Twos, Three_plus)"
      ],
      "metadata": {
        "colab": {
          "base_uri": "https://localhost:8080/"
        },
        "id": "c6oIY7ijqMgu",
        "outputId": "7d2ea61a-13f1-4dcd-92c1-3a6ca26a3812"
      },
      "execution_count": null,
      "outputs": [
        {
          "output_type": "stream",
          "name": "stdout",
          "text": [
            "0.31 0.35 0.25 0.35\n"
          ]
        }
      ]
    },
    {
      "cell_type": "code",
      "source": [
        "dep_labels =[\"Nula\", \"Jedno\", \"Dvoje\", \"+Tri\"]\n",
        "dep_values =[Zero, One, Twos, Three_plus]"
      ],
      "metadata": {
        "id": "c1c3zyNMmxmX"
      },
      "execution_count": null,
      "outputs": []
    },
    {
      "cell_type": "code",
      "source": [
        "f, ax = plt.subplots(figsize=(12, 6))\n",
        "sns.barplot(x=dep_values,y=dep_labels)\n",
        "ax.set(xlim=(0, 1), ylabel=\"Broj djece\",\n",
        "       xlabel=\"postotak kredita koji se ne vraćaju\");"
      ],
      "metadata": {
        "colab": {
          "base_uri": "https://localhost:8080/",
          "height": 389
        },
        "id": "tb2nTin0pmWm",
        "outputId": "2d6d0f12-750a-471f-cc15-644605f002e4"
      },
      "execution_count": null,
      "outputs": [
        {
          "output_type": "display_data",
          "data": {
            "text/plain": [
              "<Figure size 864x432 with 1 Axes>"
            ],
            "image/png": "[encoded data removed]"
          },
          "metadata": {
            "needs_background": "light"
          }
        }
      ]
    },
    {
      "cell_type": "code",
      "source": [
        "faks0  = round(df.loc[df[\"Fakultet\"]==\"Da\"][\"Kreditni_Status\"].value_counts(normalize=True),2)[0]\n",
        "faks1  = round(df.loc[df[\"Fakultet\"]==\"Da\"][\"Kreditni_Status\"].value_counts(normalize=True),2)[1]\n",
        "Nfaks0 = round(df.loc[df[\"Fakultet\"]==\"Ne\"][\"Kreditni_Status\"].value_counts(normalize=True),2)[0]\n",
        "Nfaks1 = round(df.loc[df[\"Fakultet\"]==\"Ne\"][\"Kreditni_Status\"].value_counts(normalize=True),2)[1]"
      ],
      "metadata": {
        "id": "eyb7pyoTpnxQ"
      },
      "execution_count": null,
      "outputs": []
    },
    {
      "cell_type": "code",
      "source": [
        "postoci =faks0, faks1, Nfaks0, Nfaks1\n",
        "postoci =list(postoci)\n",
        "postoci"
      ],
      "metadata": {
        "colab": {
          "base_uri": "https://localhost:8080/"
        },
        "id": "xioSRNQAsk6X",
        "outputId": "64a73da3-84d4-4556-f492-51315f7385a5"
      },
      "execution_count": null,
      "outputs": [
        {
          "output_type": "execute_result",
          "data": {
            "text/plain": [
              "[0.71, 0.29, 0.61, 0.39]"
            ]
          },
          "metadata": {},
          "execution_count": 32
        }
      ]
    },
    {
      "cell_type": "code",
      "source": [
        "def swapPositions(list, pos1, pos2):\n",
        " \n",
        "    # Storing the two elements\n",
        "    # as a pair in a tuple variable get\n",
        "    get = list[pos1], list[pos2]\n",
        "      \n",
        "    # unpacking those elements\n",
        "    list[pos2], list[pos1] = get\n",
        "      \n",
        "    return list\n",
        "\n",
        "pos1, pos2  = 1, 2"
      ],
      "metadata": {
        "id": "X8HmKAKHyfVc"
      },
      "execution_count": null,
      "outputs": []
    },
    {
      "cell_type": "code",
      "source": [
        "swapPositions(postoci, pos1, pos2)"
      ],
      "metadata": {
        "colab": {
          "base_uri": "https://localhost:8080/"
        },
        "id": "0kA0cHpRynx6",
        "outputId": "c94f1396-f805-4001-b77f-74dd13c1dd86"
      },
      "execution_count": null,
      "outputs": [
        {
          "output_type": "execute_result",
          "data": {
            "text/plain": [
              "[0.71, 0.61, 0.29, 0.39]"
            ]
          },
          "metadata": {},
          "execution_count": 34
        }
      ]
    },
    {
      "cell_type": "code",
      "source": [
        "#Zajmoprimci koji su završili fakultet imaju nešto veću stopu vraćanja kredita\n",
        "ax=sns.countplot(x=\"Fakultet\",  hue=\"Kreditni_Status\" ,data=df)\n",
        "for i, p in enumerate(ax.patches):\n",
        "    height = p.get_height()\n",
        "    ax.text(p.get_x()+p.get_width()/2., height + 2, postoci[i],ha=\"center\")"
      ],
      "metadata": {
        "colab": {
          "base_uri": "https://localhost:8080/",
          "height": 279
        },
        "id": "pPsf-xily_Cz",
        "outputId": "5aede338-9111-46eb-d1ec-f0a73ae13e53"
      },
      "execution_count": null,
      "outputs": [
        {
          "output_type": "display_data",
          "data": {
            "text/plain": [
              "<Figure size 432x288 with 1 Axes>"
            ],
            "image/png": "[encoded data removed]"
          },
          "metadata": {
            "needs_background": "light"
          }
        }
      ]
    },
    {
      "cell_type": "code",
      "source": [
        "#Iz priloženog se vidi da ljudi koji su završili fakultet u pravilu zarađuju malo više, međutim među njima ima puno više \"outlinera\"\n",
        "fig, ax = plt.subplots()\n",
        "fig.set_size_inches(11.7, 8.27)\n",
        "sns.boxplot(x=\"Fakultet\", y=\"Mjesečni_Prihod_PPP\",\n",
        "                 data=df, palette=\"Set3\");"
      ],
      "metadata": {
        "colab": {
          "base_uri": "https://localhost:8080/",
          "height": 511
        },
        "id": "eQCUPghkQ00g",
        "outputId": "48c24a49-67be-4409-e739-5f7c599b6a8e"
      },
      "execution_count": null,
      "outputs": [
        {
          "output_type": "display_data",
          "data": {
            "text/plain": [
              "<Figure size 842.4x595.44 with 1 Axes>"
            ],
            "image/png": "[encoded data removed]"
          },
          "metadata": {
            "needs_background": "light"
          }
        }
      ]
    },
    {
      "cell_type": "code",
      "source": [
        "sns.countplot(x=\"Samo_Zaposlen\", hue=\"Kreditni_Status\", data=df);"
      ],
      "metadata": {
        "colab": {
          "base_uri": "https://localhost:8080/",
          "height": 280
        },
        "id": "fSx6ZbGCzynM",
        "outputId": "29afae61-e62c-417d-ae6b-675551cbe0de"
      },
      "execution_count": null,
      "outputs": [
        {
          "output_type": "display_data",
          "data": {
            "text/plain": [
              "<Figure size 432x288 with 1 Axes>"
            ],
            "image/png": "[encoded data removed]"
          },
          "metadata": {
            "needs_background": "light"
          }
        }
      ]
    },
    {
      "cell_type": "code",
      "source": [
        "#Velika većina ljudi je uzela kredit na preko 360 mjeseci ili 30 godina\n",
        "df[\"Vremenski_Period\"].value_counts()"
      ],
      "metadata": {
        "colab": {
          "base_uri": "https://localhost:8080/"
        },
        "id": "uL08Cccz0CK4",
        "outputId": "56b05f97-bac6-4eaf-82b8-18fc69723ca7"
      },
      "execution_count": null,
      "outputs": [
        {
          "output_type": "execute_result",
          "data": {
            "text/plain": [
              "360.0    512\n",
              "180.0     44\n",
              "480.0     15\n",
              "300.0     13\n",
              "240.0      4\n",
              "84.0       4\n",
              "120.0      3\n",
              "60.0       2\n",
              "36.0       2\n",
              "12.0       1\n",
              "Name: Vremenski_Period, dtype: int64"
            ]
          },
          "metadata": {},
          "execution_count": 137
        }
      ]
    },
    {
      "cell_type": "code",
      "source": [
        "df.head()"
      ],
      "metadata": {
        "id": "bmzHiKk00kUg",
        "colab": {
          "base_uri": "https://localhost:8080/",
          "height": 206
        },
        "outputId": "802ac209-4bb4-4eef-c3c4-17a517baff59"
      },
      "execution_count": null,
      "outputs": [
        {
          "output_type": "execute_result",
          "data": {
            "text/plain": [
              "  Spol Bračni_Status  Broj_Djece Fakultet Samo_Zaposlen  Vremenski_Period  \\\n",
              "0    M            Ne         0.0       Da            Ne             360.0   \n",
              "1    M            Da         1.0       Da            Ne             360.0   \n",
              "2    M            Da         0.0       Da            Da             360.0   \n",
              "3    M            Da         0.0       Ne            Ne             360.0   \n",
              "4    M            Ne         0.0       Da            Ne             360.0   \n",
              "\n",
              "   Kreditna_Povijest Vrsta_Naselja Kreditni_Status  Mjesečni_Prihod_PPP  \\\n",
              "0                1.0          Grad       Pozitivan                13593   \n",
              "1                1.0         Rural       Negativan                10651   \n",
              "2                1.0          Grad       Pozitivan                 6972   \n",
              "3                1.0          Grad       Pozitivan                 6003   \n",
              "4                1.0          Grad       Pozitivan                13944   \n",
              "\n",
              "   Prihod_Jamca_PPP  Iznos_Kredita_PPP  \n",
              "0                 0                NaN  \n",
              "1              3505              297.0  \n",
              "2                 0              153.0  \n",
              "3              5480              279.0  \n",
              "4                 0              328.0  "
            ],
            "text/html": [
              "<div>\n",
              "<style scoped>\n",
              "    .dataframe tbody tr th:only-of-type {\n",
              "        vertical-align: middle;\n",
              "    }\n",
              "\n",
              "    .dataframe tbody tr th {\n",
              "        vertical-align: top;\n",
              "    }\n",
              "\n",
              "    .dataframe thead th {\n",
              "        text-align: right;\n",
              "    }\n",
              "</style>\n",
              "<table border=\"1\" class=\"dataframe\">\n",
              "  <thead>\n",
              "    <tr style=\"text-align: right;\">\n",
              "      <th></th>\n",
              "      <th>Spol</th>\n",
              "      <th>Bračni_Status</th>\n",
              "      <th>Broj_Djece</th>\n",
              "      <th>Fakultet</th>\n",
              "      <th>Samo_Zaposlen</th>\n",
              "      <th>Vremenski_Period</th>\n",
              "      <th>Kreditna_Povijest</th>\n",
              "      <th>Vrsta_Naselja</th>\n",
              "      <th>Kreditni_Status</th>\n",
              "      <th>Mjesečni_Prihod_PPP</th>\n",
              "      <th>Prihod_Jamca_PPP</th>\n",
              "      <th>Iznos_Kredita_PPP</th>\n",
              "    </tr>\n",
              "  </thead>\n",
              "  <tbody>\n",
              "    <tr>\n",
              "      <th>0</th>\n",
              "      <td>M</td>\n",
              "      <td>Ne</td>\n",
              "      <td>0.0</td>\n",
              "      <td>Da</td>\n",
              "      <td>Ne</td>\n",
              "      <td>360.0</td>\n",
              "      <td>1.0</td>\n",
              "      <td>Grad</td>\n",
              "      <td>Pozitivan</td>\n",
              "      <td>13593</td>\n",
              "      <td>0</td>\n",
              "      <td>NaN</td>\n",
              "    </tr>\n",
              "    <tr>\n",
              "      <th>1</th>\n",
              "      <td>M</td>\n",
              "      <td>Da</td>\n",
              "      <td>1.0</td>\n",
              "      <td>Da</td>\n",
              "      <td>Ne</td>\n",
              "      <td>360.0</td>\n",
              "      <td>1.0</td>\n",
              "      <td>Rural</td>\n",
              "      <td>Negativan</td>\n",
              "      <td>10651</td>\n",
              "      <td>3505</td>\n",
              "      <td>297.0</td>\n",
              "    </tr>\n",
              "    <tr>\n",
              "      <th>2</th>\n",
              "      <td>M</td>\n",
              "      <td>Da</td>\n",
              "      <td>0.0</td>\n",
              "      <td>Da</td>\n",
              "      <td>Da</td>\n",
              "      <td>360.0</td>\n",
              "      <td>1.0</td>\n",
              "      <td>Grad</td>\n",
              "      <td>Pozitivan</td>\n",
              "      <td>6972</td>\n",
              "      <td>0</td>\n",
              "      <td>153.0</td>\n",
              "    </tr>\n",
              "    <tr>\n",
              "      <th>3</th>\n",
              "      <td>M</td>\n",
              "      <td>Da</td>\n",
              "      <td>0.0</td>\n",
              "      <td>Ne</td>\n",
              "      <td>Ne</td>\n",
              "      <td>360.0</td>\n",
              "      <td>1.0</td>\n",
              "      <td>Grad</td>\n",
              "      <td>Pozitivan</td>\n",
              "      <td>6003</td>\n",
              "      <td>5480</td>\n",
              "      <td>279.0</td>\n",
              "    </tr>\n",
              "    <tr>\n",
              "      <th>4</th>\n",
              "      <td>M</td>\n",
              "      <td>Ne</td>\n",
              "      <td>0.0</td>\n",
              "      <td>Da</td>\n",
              "      <td>Ne</td>\n",
              "      <td>360.0</td>\n",
              "      <td>1.0</td>\n",
              "      <td>Grad</td>\n",
              "      <td>Pozitivan</td>\n",
              "      <td>13944</td>\n",
              "      <td>0</td>\n",
              "      <td>328.0</td>\n",
              "    </tr>\n",
              "  </tbody>\n",
              "</table>\n",
              "</div>"
            ]
          },
          "metadata": {},
          "execution_count": 39
        }
      ]
    },
    {
      "cell_type": "code",
      "source": [
        ""
      ],
      "metadata": {
        "id": "kc3ysWUKn7XM"
      },
      "execution_count": null,
      "outputs": []
    },
    {
      "cell_type": "code",
      "source": [
        ""
      ],
      "metadata": {
        "id": "7EpxmxAXo3rk"
      },
      "execution_count": null,
      "outputs": []
    },
    {
      "cell_type": "code",
      "source": [
        "palette1 = sns.color_palette([\"#E5951D\",\"#1D31E5\"])"
      ],
      "metadata": {
        "id": "FWPHwBDBzmQp"
      },
      "execution_count": null,
      "outputs": []
    },
    {
      "cell_type": "code",
      "source": [
        "palette2 = sns.color_palette([\"#1D31E5\",\"#E5951D\"])"
      ],
      "metadata": {
        "id": "vT63gbh41Pak"
      },
      "execution_count": null,
      "outputs": []
    },
    {
      "cell_type": "code",
      "source": [
        "df.loc[df[\"Kreditna_Povijest\"]==1][\"Kreditni_Status\"].value_counts(normalize=True)"
      ],
      "metadata": {
        "colab": {
          "base_uri": "https://localhost:8080/"
        },
        "id": "Ound7UPB0WaU",
        "outputId": "9d913302-65c7-4c7b-e6d8-23a35b70c7f6"
      },
      "execution_count": null,
      "outputs": [
        {
          "output_type": "execute_result",
          "data": {
            "text/plain": [
              "Pozitivan    0.795789\n",
              "Negativan    0.204211\n",
              "Name: Kreditni_Status, dtype: float64"
            ]
          },
          "metadata": {},
          "execution_count": 42
        }
      ]
    },
    {
      "cell_type": "markdown",
      "source": [
        "Iz iduća dva grafička prikaza možemo vidjeti da je kredinta prošlost značajna varijabla. Osobe koje su imale kreditnu povijest 1 - dakle vraćali u prošlosti kredit - u pravilu uspješno vraćaju kredit. I obrnuto , osobe čija je kreditna povijest bila 0 , u pravilu ne vraćaju kredit. Vjerojatno bi se model odmah na prvu mogao izgraditi samo oko ove varijable"
      ],
      "metadata": {
        "id": "Zp1BJgVlc8aE"
      }
    },
    {
      "cell_type": "code",
      "source": [
        "sns.countplot(x=\"Kreditni_Status\", data=df.loc[df[\"Kreditna_Povijest\"]==1], palette=palette1)\n",
        "plt.xlabel(\"Kreditni Status kada je prošla Kreditna Povijest 1\", fontsize=12);\n",
        " "
      ],
      "metadata": {
        "colab": {
          "base_uri": "https://localhost:8080/",
          "height": 282
        },
        "id": "6qrL73-Uqg5M",
        "outputId": "05d5bc36-83be-46c5-fd31-37d596abd090"
      },
      "execution_count": null,
      "outputs": [
        {
          "output_type": "display_data",
          "data": {
            "text/plain": [
              "<Figure size 432x288 with 1 Axes>"
            ],
            "image/png": "[encoded data removed]"
          },
          "metadata": {
            "needs_background": "light"
          }
        }
      ]
    },
    {
      "cell_type": "code",
      "source": [
        "sns.countplot(x=\"Kreditni_Status\", data=df.loc[df[\"Kreditna_Povijest\"]==0], palette=palette2)\n",
        "plt.xlabel(\"Kreditni Status kada je prošla Kreditna Povijest 0\", fontsize=12);"
      ],
      "metadata": {
        "colab": {
          "base_uri": "https://localhost:8080/",
          "height": 282
        },
        "id": "65g6aOOX1FbS",
        "outputId": "9401b60f-9aac-4a5f-8d0a-8c9358fc1bb0"
      },
      "execution_count": null,
      "outputs": [
        {
          "output_type": "display_data",
          "data": {
            "text/plain": [
              "<Figure size 432x288 with 1 Axes>"
            ],
            "image/png": "[encoded data removed]"
          },
          "metadata": {
            "needs_background": "light"
          }
        }
      ]
    },
    {
      "cell_type": "code",
      "source": [
        "sns.countplot(x=\"Vrsta_Naselja\",  hue=\"Kreditni_Status\" ,data=df);"
      ],
      "metadata": {
        "colab": {
          "base_uri": "https://localhost:8080/",
          "height": 280
        },
        "id": "0zM7veT44Dij",
        "outputId": "0c1b3e91-9c00-4146-efc1-2f861ec0b4fc"
      },
      "execution_count": null,
      "outputs": [
        {
          "output_type": "display_data",
          "data": {
            "text/plain": [
              "<Figure size 432x288 with 1 Axes>"
            ],
            "image/png": "[encoded data removed]"
          },
          "metadata": {
            "needs_background": "light"
          }
        }
      ]
    },
    {
      "cell_type": "code",
      "source": [
        "std=round(df['Iznos_Kredita_PPP'].std())\n",
        "mn=round(df['Iznos_Kredita_PPP'].mean())"
      ],
      "metadata": {
        "id": "d1ylvME39tKh"
      },
      "execution_count": null,
      "outputs": []
    },
    {
      "cell_type": "code",
      "source": [
        "sns.displot(df['Iznos_Kredita_PPP'],kde=True, height=6, aspect=12/6)\n",
        "plt.axvline(df['Iznos_Kredita_PPP'].mean(),color=\"r\", linewidth=4 )\n",
        "plt.axvline(df['Iznos_Kredita_PPP'].mean()+std,color=\"g\", linewidth=4 )\n",
        "plt.axvline(df['Iznos_Kredita_PPP'].mean()-std,color=\"g\", linewidth=4 )\n",
        "plt.text(df['Iznos_Kredita_PPP'].mean()+5,65, f'Prosječni iznos kredita    {mn} 000',rotation=90, fontsize=12)\n",
        "plt.text(df['Iznos_Kredita_PPP'].mean()+std+5,65, f'Standardna Devijacija    {round(mn+std)} 000',rotation=90, fontsize=12)\n",
        "plt.text(df['Iznos_Kredita_PPP'].mean()-std+5,65, f'Standardna Devijacija    {round(mn-std)} 000',rotation=90, fontsize=12)\n",
        "plt.ylabel(\"Ukupni broj kredita\", fontsize=12);\n",
        "plt.xlabel(\"Iznos Kredita u tisućama KN PPP\", fontsize=12);"
      ],
      "metadata": {
        "colab": {
          "base_uri": "https://localhost:8080/",
          "height": 504
        },
        "id": "W1SANlAB4LEH",
        "outputId": "3c469f44-1167-45db-9519-b6ebc246a1ff"
      },
      "execution_count": null,
      "outputs": [
        {
          "output_type": "display_data",
          "data": {
            "text/plain": [
              "<Figure size 864x432 with 1 Axes>"
            ],
            "image/png": "[encoded data removed]"
          },
          "metadata": {
            "needs_background": "light"
          }
        }
      ]
    },
    {
      "cell_type": "code",
      "source": [
        "apl_mean= round(df['Mjesečni_Prihod_PPP'].mean())\n",
        "apl_median =round(df['Mjesečni_Prihod_PPP'].median())\n",
        "sns.displot(df['Mjesečni_Prihod_PPP'], height=6, aspect=12/6)\n",
        "plt.axvline(df['Mjesečni_Prihod_PPP'].mean(),color=\"r\", linewidth=2 )\n",
        "plt.text(df['Mjesečni_Prihod_PPP'].mean()+1000,75, f'Aritmetička sredina  {apl_mean} kn',rotation=90, fontsize=12)\n",
        "plt.text(df['Mjesečni_Prihod_PPP'].median()+10000,65, f'Median  {apl_median} kn',rotation=0, fontsize=12)\n",
        "plt.ylabel(\"Ukupni broj\", fontsize=12);\n",
        "plt.xlabel(\"Mjesečni prihod zajmoprimca u KN PPP\", fontsize=12);\n"
      ],
      "metadata": {
        "colab": {
          "base_uri": "https://localhost:8080/",
          "height": 478
        },
        "id": "oXhd5LyHAtiS",
        "outputId": "f5dd7171-dc19-4221-f35d-697460024f69"
      },
      "execution_count": null,
      "outputs": [
        {
          "output_type": "display_data",
          "data": {
            "text/plain": [
              "<Figure size 864x432 with 1 Axes>"
            ],
            "image/png": "[encoded data removed]"
          },
          "metadata": {
            "needs_background": "light"
          }
        }
      ]
    },
    {
      "cell_type": "code",
      "source": [
        "df.loc[df['Prihod_Jamca_PPP']>0]['Prihod_Jamca_PPP'].mean()"
      ],
      "metadata": {
        "colab": {
          "base_uri": "https://localhost:8080/"
        },
        "id": "3bRW16JIKZNu",
        "outputId": "b2297f8c-074f-43ea-ee7b-2a3c1a073a02"
      },
      "execution_count": null,
      "outputs": [
        {
          "output_type": "execute_result",
          "data": {
            "text/plain": [
              "6784.076246334311"
            ]
          },
          "metadata": {},
          "execution_count": 49
        }
      ]
    },
    {
      "cell_type": "code",
      "source": [
        "copl_mean=df.loc[df['Prihod_Jamca_PPP']>0]['Prihod_Jamca_PPP'].mean()\n",
        "sns.displot(df['Prihod_Jamca_PPP'], height=6, aspect=12/6)\n",
        "plt.axvline(df.loc[df['Prihod_Jamca_PPP']>0]['Prihod_Jamca_PPP'].mean(),color=\"r\", linewidth=2 )\n",
        "plt.text(df.loc[df['Prihod_Jamca_PPP']>0]['Prihod_Jamca_PPP'].mean()+1000,150, f'Aritmetička sredina  {round(copl_mean)} kn',rotation=90, fontsize=12)\n",
        "plt.xlabel(\"Mjesečni prihod jamca u KN PPP\", fontsize=12);"
      ],
      "metadata": {
        "colab": {
          "base_uri": "https://localhost:8080/",
          "height": 443
        },
        "id": "0Gnls_NaCIOb",
        "outputId": "393ebac7-2871-4046-b438-72f1c0dff340"
      },
      "execution_count": null,
      "outputs": [
        {
          "output_type": "display_data",
          "data": {
            "text/plain": [
              "<Figure size 864x432 with 1 Axes>"
            ],
            "image/png": "[encoded data removed]"
          },
          "metadata": {
            "needs_background": "light"
          }
        }
      ]
    },
    {
      "cell_type": "code",
      "source": [
        "df[\"Vremenski_Period\"].value_counts()"
      ],
      "metadata": {
        "colab": {
          "base_uri": "https://localhost:8080/"
        },
        "id": "oVlj0TS5L7Tq",
        "outputId": "0d2ff36d-83e6-4c75-9f4f-65b1c9c8b372"
      },
      "execution_count": null,
      "outputs": [
        {
          "output_type": "execute_result",
          "data": {
            "text/plain": [
              "360.0    512\n",
              "180.0     44\n",
              "480.0     15\n",
              "300.0     13\n",
              "240.0      4\n",
              "84.0       4\n",
              "120.0      3\n",
              "60.0       2\n",
              "36.0       2\n",
              "12.0       1\n",
              "Name: Vremenski_Period, dtype: int64"
            ]
          },
          "metadata": {},
          "execution_count": 51
        }
      ]
    },
    {
      "cell_type": "code",
      "source": [
        "round(df[\"Kreditni_Status\"].value_counts(normalize=True),2)"
      ],
      "metadata": {
        "colab": {
          "base_uri": "https://localhost:8080/"
        },
        "id": "BGpSccZgliQ8",
        "outputId": "e605d995-e874-447f-d6fe-1344cd85e749"
      },
      "execution_count": null,
      "outputs": [
        {
          "output_type": "execute_result",
          "data": {
            "text/plain": [
              "Pozitivan    0.69\n",
              "Negativan    0.31\n",
              "Name: Kreditni_Status, dtype: float64"
            ]
          },
          "metadata": {},
          "execution_count": 52
        }
      ]
    },
    {
      "cell_type": "code",
      "source": [
        "X =df.drop([\"Kreditni_Status\"], axis=1)\n",
        "y =df[\"Kreditni_Status\"]"
      ],
      "metadata": {
        "id": "eSYAt4q0nTbL"
      },
      "execution_count": null,
      "outputs": []
    },
    {
      "cell_type": "code",
      "source": [
        ""
      ],
      "metadata": {
        "id": "4N3X5qqeoa-V"
      },
      "execution_count": null,
      "outputs": []
    },
    {
      "cell_type": "code",
      "source": [
        "from sklearn.model_selection import train_test_split\n",
        "X_train, X_test, y_train, y_test = train_test_split(X, y, random_state=69)"
      ],
      "metadata": {
        "id": "2_AoS4mwobcL"
      },
      "execution_count": null,
      "outputs": []
    },
    {
      "cell_type": "markdown",
      "source": [
        "Vrijeme je za preprocesing. Računalo ne razumije  slova i riječi , nego brojeve.  Sve kategorije ćemo one_hot_encode odnosno pretvoriti u jedinice i nule. Čak i neke brojačne vrijednosti tipa broj djece ili vremenski period bi se teoretski moglo pretvoriti u nekoliko kategorija. Zatim treba popuniti sve \"rupe\". Jedan od načina jest da ih sve izbacimo. Međutim pošto imamo dosta \"missing values\" , a svega 614 redova sa podacima, odlučio sam na popunjavanje. Brojčane vrijednosti popunjavamo aritmetičkom sredinom, a kategoričke vrijednosti popunjavam sa \"najčešćom\" vrijednosti. Naprimjer ako ne znamo kojeg je spola osoba, a najveća vjerojatnost je da je muško, onda stavljam muško. Za neke kategorije je moguće stvoriti \"missing\" parametar. To je područje gdje se može experimentirati"
      ],
      "metadata": {
        "id": "TyF1ASUxeroW"
      }
    },
    {
      "cell_type": "code",
      "source": [
        "\n",
        "\n",
        "from sklearn.preprocessing import OneHotEncoder\n",
        "from sklearn.compose import make_column_transformer\n",
        "from sklearn.impute import SimpleImputer\n",
        "imp = SimpleImputer()\n",
        "ohe = OneHotEncoder(handle_unknown = 'ignore')"
      ],
      "metadata": {
        "id": "6kvARW0Ko7A9"
      },
      "execution_count": null,
      "outputs": []
    },
    {
      "cell_type": "code",
      "source": [
        "imp.fit_transform(df[[\"Iznos_Kredita_PPP\"]])"
      ],
      "metadata": {
        "id": "U8AL1-1mpEcE"
      },
      "execution_count": null,
      "outputs": []
    },
    {
      "cell_type": "code",
      "source": [
        "imp_constant = SimpleImputer(strategy='constant', fill_value='missing')"
      ],
      "metadata": {
        "id": "XBgEgYGXpc10"
      },
      "execution_count": null,
      "outputs": []
    },
    {
      "cell_type": "code",
      "source": [
        "imp_frequent = SimpleImputer(strategy=\"most_frequent\")"
      ],
      "metadata": {
        "id": "FnhxZOYTpi0U"
      },
      "execution_count": null,
      "outputs": []
    },
    {
      "cell_type": "code",
      "source": [
        "from sklearn.linear_model import LogisticRegression\n",
        "from sklearn.pipeline import make_pipeline"
      ],
      "metadata": {
        "id": "CjPfQmJfqhAN"
      },
      "execution_count": null,
      "outputs": []
    },
    {
      "cell_type": "code",
      "source": [
        "imp_ohe_costant = make_pipeline(imp_constant, ohe)\n",
        "imp_ohe_frequent = make_pipeline(imp_frequent, ohe)"
      ],
      "metadata": {
        "id": "vOQeM4B4qjE-"
      },
      "execution_count": null,
      "outputs": []
    },
    {
      "cell_type": "code",
      "source": [
        "df.isna().sum()"
      ],
      "metadata": {
        "colab": {
          "base_uri": "https://localhost:8080/"
        },
        "id": "yOhmDC_JqqIc",
        "outputId": "ae1eec15-b0c1-40bb-d6a5-b2d78f0bc3b2"
      },
      "execution_count": null,
      "outputs": [
        {
          "output_type": "execute_result",
          "data": {
            "text/plain": [
              "Spol                   13\n",
              "Bračni_Status           3\n",
              "Broj_Djece             15\n",
              "Fakultet                0\n",
              "Samo_Zaposlen          32\n",
              "Vremenski_Period       14\n",
              "Kreditna_Povijest      50\n",
              "Vrsta_Naselja           0\n",
              "Kreditni_Status         0\n",
              "Mjesečni_Prihod_PPP     0\n",
              "Prihod_Jamca_PPP        0\n",
              "Iznos_Kredita_PPP      22\n",
              "dtype: int64"
            ]
          },
          "metadata": {},
          "execution_count": 61
        }
      ]
    },
    {
      "cell_type": "code",
      "source": [
        "df.columns"
      ],
      "metadata": {
        "colab": {
          "base_uri": "https://localhost:8080/"
        },
        "id": "x8IeIQK7rF48",
        "outputId": "84a44c9b-54d4-4950-8b88-c3ac32394955"
      },
      "execution_count": null,
      "outputs": [
        {
          "output_type": "execute_result",
          "data": {
            "text/plain": [
              "Index(['Spol', 'Bračni_Status', 'Broj_Djece', 'Fakultet', 'Samo_Zaposlen',\n",
              "       'Vremenski_Period', 'Kreditna_Povijest', 'Vrsta_Naselja',\n",
              "       'Kreditni_Status', 'Mjesečni_Prihod_PPP', 'Prihod_Jamca_PPP',\n",
              "       'Iznos_Kredita_PPP'],\n",
              "      dtype='object')"
            ]
          },
          "metadata": {},
          "execution_count": 62
        }
      ]
    },
    {
      "cell_type": "code",
      "source": [
        "#ovdje radimo column transformer, koji će popunjavati sve prazne vrijednosti sa unaprijed određenim parametrima\n",
        "ct = make_column_transformer(\n",
        "    (imp_ohe_frequent, ['Spol', 'Bračni_Status',\"Broj_Djece\" ,\"Fakultet\",\"Samo_Zaposlen\",\"Vremenski_Period\",\"Vrsta_Naselja\", \"Kreditna_Povijest\"]),\n",
        "    (imp, ['Iznos_Kredita_PPP']),\n",
        "    remainder='passthrough')"
      ],
      "metadata": {
        "id": "d7hvFutUrByz"
      },
      "execution_count": null,
      "outputs": []
    },
    {
      "cell_type": "code",
      "source": [
        "df.isnull().sum()"
      ],
      "metadata": {
        "colab": {
          "base_uri": "https://localhost:8080/"
        },
        "id": "38LiqBOhtCtD",
        "outputId": "c925e37c-70e8-4059-ee2e-b754cc8ae142"
      },
      "execution_count": null,
      "outputs": [
        {
          "output_type": "execute_result",
          "data": {
            "text/plain": [
              "Spol                   13\n",
              "Bračni_Status           3\n",
              "Broj_Djece             15\n",
              "Fakultet                0\n",
              "Samo_Zaposlen          32\n",
              "Vremenski_Period       14\n",
              "Kreditna_Povijest      50\n",
              "Vrsta_Naselja           0\n",
              "Kreditni_Status         0\n",
              "Mjesečni_Prihod_PPP     0\n",
              "Prihod_Jamca_PPP        0\n",
              "Iznos_Kredita_PPP      22\n",
              "dtype: int64"
            ]
          },
          "metadata": {},
          "execution_count": 64
        }
      ]
    },
    {
      "cell_type": "code",
      "source": [
        "X_train.isnull().sum()"
      ],
      "metadata": {
        "colab": {
          "base_uri": "https://localhost:8080/"
        },
        "id": "9Cmmxiszr-2T",
        "outputId": "8325f309-9883-476f-bd00-128ebf239ddf"
      },
      "execution_count": null,
      "outputs": [
        {
          "output_type": "execute_result",
          "data": {
            "text/plain": [
              "Spol                   10\n",
              "Bračni_Status           2\n",
              "Broj_Djece             11\n",
              "Fakultet                0\n",
              "Samo_Zaposlen          25\n",
              "Vremenski_Period        9\n",
              "Kreditna_Povijest      37\n",
              "Vrsta_Naselja           0\n",
              "Mjesečni_Prihod_PPP     0\n",
              "Prihod_Jamca_PPP        0\n",
              "Iznos_Kredita_PPP      17\n",
              "dtype: int64"
            ]
          },
          "metadata": {},
          "execution_count": 65
        }
      ]
    },
    {
      "cell_type": "code",
      "source": [
        "X_test.isnull().sum()"
      ],
      "metadata": {
        "colab": {
          "base_uri": "https://localhost:8080/"
        },
        "id": "jF44H11SsBkk",
        "outputId": "b133879e-0f29-4dd5-a465-8b8ffab5ff80"
      },
      "execution_count": null,
      "outputs": [
        {
          "output_type": "execute_result",
          "data": {
            "text/plain": [
              "Spol                    3\n",
              "Bračni_Status           1\n",
              "Broj_Djece              4\n",
              "Fakultet                0\n",
              "Samo_Zaposlen           7\n",
              "Vremenski_Period        5\n",
              "Kreditna_Povijest      13\n",
              "Vrsta_Naselja           0\n",
              "Mjesečni_Prihod_PPP     0\n",
              "Prihod_Jamca_PPP        0\n",
              "Iznos_Kredita_PPP       5\n",
              "dtype: int64"
            ]
          },
          "metadata": {},
          "execution_count": 66
        }
      ]
    },
    {
      "cell_type": "code",
      "source": [
        "#importamo logističku regresiju\n",
        "logreg =LogisticRegression(solver='lbfgs', max_iter=3000)"
      ],
      "metadata": {
        "id": "S5B8n7SwA_Gi"
      },
      "execution_count": null,
      "outputs": []
    },
    {
      "cell_type": "code",
      "source": [
        "#stvaramo pipeline gdje će model prvo popuniti praznine, zatim će one_hot_encode kategoričke varijable a nakon toga oni idu u logističku regresiju\n",
        "pipe = make_pipeline(ct, logreg)\n",
        "pipe.fit(X_train, y_train);"
      ],
      "metadata": {
        "id": "3Q7j4CWHA_8L"
      },
      "execution_count": null,
      "outputs": []
    },
    {
      "cell_type": "code",
      "source": [
        "#rezultat predviđanja\n",
        "y_preds = pipe.predict(X_test)"
      ],
      "metadata": {
        "id": "y75snz6BBDTK"
      },
      "execution_count": null,
      "outputs": []
    },
    {
      "cell_type": "code",
      "source": [
        "from sklearn.metrics import confusion_matrix\n",
        "confusion_matrix = confusion_matrix(y_test, y_preds)\n",
        "print(confusion_matrix)"
      ],
      "metadata": {
        "colab": {
          "base_uri": "https://localhost:8080/"
        },
        "id": "JrmWTcFMBFkK",
        "outputId": "58498648-ec9a-497b-bf15-901141d63747"
      },
      "execution_count": null,
      "outputs": [
        {
          "output_type": "stream",
          "name": "stdout",
          "text": [
            "[[ 28  22]\n",
            " [  1 103]]\n"
          ]
        }
      ]
    },
    {
      "cell_type": "code",
      "source": [
        "from sklearn.metrics import classification_report\n",
        "print(classification_report(y_test, y_preds))"
      ],
      "metadata": {
        "colab": {
          "base_uri": "https://localhost:8080/"
        },
        "id": "6jwSI14mBIA6",
        "outputId": "c12d8fb5-36f4-4a5c-9f26-718851d7453b"
      },
      "execution_count": null,
      "outputs": [
        {
          "output_type": "stream",
          "name": "stdout",
          "text": [
            "              precision    recall  f1-score   support\n",
            "\n",
            "   Negativan       0.97      0.56      0.71        50\n",
            "   Pozitivan       0.82      0.99      0.90       104\n",
            "\n",
            "    accuracy                           0.85       154\n",
            "   macro avg       0.89      0.78      0.80       154\n",
            "weighted avg       0.87      0.85      0.84       154\n",
            "\n"
          ]
        }
      ]
    },
    {
      "cell_type": "markdown",
      "source": [
        "Precision =TP/TP+FP\n",
        "\n",
        "Recall - true positive rate , TP/TP+FN \n",
        "\n",
        "Kod izdavanja kredita, kada gledamo da li je netko pozitivan, gledamo više precision, nije poželjno imati lažno pozitivnih, odnosno ljudi koji neće vraćati kredit. Precision za Pozitivne(oni za koje je procjenjeno) da će vraćati kredit je 0.82%, recall je 0.99 što znači da nije bilo lažno negativnih. odnosno procjenjenih da će biti negative a bili pozitivno.\n",
        "\n",
        "Kod negativnih slučajeva, precision je jako visok što znači da je velika većina za koje se procjenilo da će neće biti sposobna vraćati kredita - zaista dobro procjenjena. Recall je nizak, što znači da je skoro polovica lažno negativnih, dakle dobili su ocjenu da nisu kreditno sposobni, međutim bili su - tu banka gubi profit, ali nema gubitaka.\n"
      ],
      "metadata": {
        "id": "LxEdYx-iKsYY"
      }
    },
    {
      "cell_type": "code",
      "source": [
        "#cross val_score\n",
        "from sklearn.model_selection import cross_val_score\n",
        "cross_val_score(pipe, X, y, cv=5, scoring='accuracy').mean()"
      ],
      "metadata": {
        "colab": {
          "base_uri": "https://localhost:8080/"
        },
        "id": "8FBIXv-AOReZ",
        "outputId": "499e01a8-a96f-40ad-e9e0-035be70916df"
      },
      "execution_count": null,
      "outputs": [
        {
          "output_type": "execute_result",
          "data": {
            "text/plain": [
              "0.7997467679594829"
            ]
          },
          "metadata": {},
          "execution_count": 72
        }
      ]
    },
    {
      "cell_type": "code",
      "source": [
        "#hyperparametar tunning za logističku regresiju\n",
        "params = {}\n",
        "params['logisticregression__penalty'] = ['l2']\n",
        "params['logisticregression__C'] = [0.1, 1, 10]\n",
        "params"
      ],
      "metadata": {
        "colab": {
          "base_uri": "https://localhost:8080/"
        },
        "id": "n85J8M3OSSQY",
        "outputId": "d95b1fc8-4a36-4331-e57e-9c5af50a3c62"
      },
      "execution_count": null,
      "outputs": [
        {
          "output_type": "execute_result",
          "data": {
            "text/plain": [
              "{'logisticregression__C': [0.1, 1, 10], 'logisticregression__penalty': ['l2']}"
            ]
          },
          "metadata": {},
          "execution_count": 115
        }
      ]
    },
    {
      "cell_type": "code",
      "source": [
        "from sklearn.model_selection import GridSearchCV\n",
        "grid = GridSearchCV(pipe, params, cv=5, scoring='accuracy')\n",
        "grid.fit(X, y);"
      ],
      "metadata": {
        "id": "P2hZLY-CSe__"
      },
      "execution_count": null,
      "outputs": []
    },
    {
      "cell_type": "code",
      "source": [
        "#najbolji rezultati..\n",
        "results = pd.DataFrame(grid.cv_results_)\n",
        "results"
      ],
      "metadata": {
        "colab": {
          "base_uri": "https://localhost:8080/",
          "height": 259
        },
        "id": "On7EvaYcSig6",
        "outputId": "7fb04ec0-f791-4e21-d767-49f012827673"
      },
      "execution_count": null,
      "outputs": [
        {
          "output_type": "execute_result",
          "data": {
            "text/plain": [
              "   mean_fit_time  std_fit_time  mean_score_time  std_score_time  \\\n",
              "0       0.066387      0.010263         0.014454        0.003270   \n",
              "1       0.060759      0.007380         0.012931        0.000986   \n",
              "2       0.058314      0.006333         0.013639        0.002365   \n",
              "\n",
              "  param_logisticregression__C param_logisticregression__penalty  \\\n",
              "0                         0.1                                l2   \n",
              "1                           1                                l2   \n",
              "2                          10                                l2   \n",
              "\n",
              "                                              params  split0_test_score  \\\n",
              "0  {'logisticregression__C': 0.1, 'logisticregres...           0.813008   \n",
              "1  {'logisticregression__C': 1, 'logisticregressi...           0.813008   \n",
              "2  {'logisticregression__C': 10, 'logisticregress...           0.813008   \n",
              "\n",
              "   split1_test_score  split2_test_score  split3_test_score  split4_test_score  \\\n",
              "0           0.772358           0.780488           0.853659           0.819672   \n",
              "1           0.715447           0.780488           0.845528           0.844262   \n",
              "2           0.715447           0.796748           0.837398           0.819672   \n",
              "\n",
              "   mean_test_score  std_test_score  rank_test_score  \n",
              "0         0.807837        0.029234                1  \n",
              "1         0.799747        0.048437                2  \n",
              "2         0.796455        0.042548                3  "
            ],
            "text/html": [
              "\n",
              "  <div id=\"df-0a7e071e-d1e7-42fd-a830-25e6630d54de\">\n",
              "    <div class=\"colab-df-container\">\n",
              "      <div>\n",
              "<style scoped>\n",
              "    .dataframe tbody tr th:only-of-type {\n",
              "        vertical-align: middle;\n",
              "    }\n",
              "\n",
              "    .dataframe tbody tr th {\n",
              "        vertical-align: top;\n",
              "    }\n",
              "\n",
              "    .dataframe thead th {\n",
              "        text-align: right;\n",
              "    }\n",
              "</style>\n",
              "<table border=\"1\" class=\"dataframe\">\n",
              "  <thead>\n",
              "    <tr style=\"text-align: right;\">\n",
              "      <th></th>\n",
              "      <th>mean_fit_time</th>\n",
              "      <th>std_fit_time</th>\n",
              "      <th>mean_score_time</th>\n",
              "      <th>std_score_time</th>\n",
              "      <th>param_logisticregression__C</th>\n",
              "      <th>param_logisticregression__penalty</th>\n",
              "      <th>params</th>\n",
              "      <th>split0_test_score</th>\n",
              "      <th>split1_test_score</th>\n",
              "      <th>split2_test_score</th>\n",
              "      <th>split3_test_score</th>\n",
              "      <th>split4_test_score</th>\n",
              "      <th>mean_test_score</th>\n",
              "      <th>std_test_score</th>\n",
              "      <th>rank_test_score</th>\n",
              "    </tr>\n",
              "  </thead>\n",
              "  <tbody>\n",
              "    <tr>\n",
              "      <th>0</th>\n",
              "      <td>0.066387</td>\n",
              "      <td>0.010263</td>\n",
              "      <td>0.014454</td>\n",
              "      <td>0.003270</td>\n",
              "      <td>0.1</td>\n",
              "      <td>l2</td>\n",
              "      <td>{'logisticregression__C': 0.1, 'logisticregres...</td>\n",
              "      <td>0.813008</td>\n",
              "      <td>0.772358</td>\n",
              "      <td>0.780488</td>\n",
              "      <td>0.853659</td>\n",
              "      <td>0.819672</td>\n",
              "      <td>0.807837</td>\n",
              "      <td>0.029234</td>\n",
              "      <td>1</td>\n",
              "    </tr>\n",
              "    <tr>\n",
              "      <th>1</th>\n",
              "      <td>0.060759</td>\n",
              "      <td>0.007380</td>\n",
              "      <td>0.012931</td>\n",
              "      <td>0.000986</td>\n",
              "      <td>1</td>\n",
              "      <td>l2</td>\n",
              "      <td>{'logisticregression__C': 1, 'logisticregressi...</td>\n",
              "      <td>0.813008</td>\n",
              "      <td>0.715447</td>\n",
              "      <td>0.780488</td>\n",
              "      <td>0.845528</td>\n",
              "      <td>0.844262</td>\n",
              "      <td>0.799747</td>\n",
              "      <td>0.048437</td>\n",
              "      <td>2</td>\n",
              "    </tr>\n",
              "    <tr>\n",
              "      <th>2</th>\n",
              "      <td>0.058314</td>\n",
              "      <td>0.006333</td>\n",
              "      <td>0.013639</td>\n",
              "      <td>0.002365</td>\n",
              "      <td>10</td>\n",
              "      <td>l2</td>\n",
              "      <td>{'logisticregression__C': 10, 'logisticregress...</td>\n",
              "      <td>0.813008</td>\n",
              "      <td>0.715447</td>\n",
              "      <td>0.796748</td>\n",
              "      <td>0.837398</td>\n",
              "      <td>0.819672</td>\n",
              "      <td>0.796455</td>\n",
              "      <td>0.042548</td>\n",
              "      <td>3</td>\n",
              "    </tr>\n",
              "  </tbody>\n",
              "</table>\n",
              "</div>\n",
              "      <button class=\"colab-df-convert\" onclick=\"convertToInteractive('df-0a7e071e-d1e7-42fd-a830-25e6630d54de')\"\n",
              "              title=\"Convert this dataframe to an interactive table.\"\n",
              "              style=\"display:none;\">\n",
              "        \n",
              "  <svg xmlns=\"http://www.w3.org/2000/svg\" height=\"24px\"viewBox=\"0 0 24 24\"\n",
              "       width=\"24px\">\n",
              "    <path d=\"M0 0h24v24H0V0z\" fill=\"none\"/>\n",
              "    <path d=\"M18.56 5.44l.94 2.06.94-2.06 2.06-.94-2.06-.94-.94-2.06-.94 2.06-2.06.94zm-11 1L8.5 8.5l.94-2.06 2.06-.94-2.06-.94L8.5 2.5l-.94 2.06-2.06.94zm10 10l.94 2.06.94-2.06 2.06-.94-2.06-.94-.94-2.06-.94 2.06-2.06.94z\"/><path d=\"M17.41 7.96l-1.37-1.37c-.4-.4-.92-.59-1.43-.59-.52 0-1.04.2-1.43.59L10.3 9.45l-7.72 7.72c-.78.78-.78 2.05 0 2.83L4 21.41c.39.39.9.59 1.41.59.51 0 1.02-.2 1.41-.59l7.78-7.78 2.81-2.81c.8-.78.8-2.07 0-2.86zM5.41 20L4 18.59l7.72-7.72 1.47 1.35L5.41 20z\"/>\n",
              "  </svg>\n",
              "      </button>\n",
              "      \n",
              "  <style>\n",
              "    .colab-df-container {\n",
              "      display:flex;\n",
              "      flex-wrap:wrap;\n",
              "      gap: 12px;\n",
              "    }\n",
              "\n",
              "    .colab-df-convert {\n",
              "      background-color: #E8F0FE;\n",
              "      border: none;\n",
              "      border-radius: 50%;\n",
              "      cursor: pointer;\n",
              "      display: none;\n",
              "      fill: #1967D2;\n",
              "      height: 32px;\n",
              "      padding: 0 0 0 0;\n",
              "      width: 32px;\n",
              "    }\n",
              "\n",
              "    .colab-df-convert:hover {\n",
              "      background-color: #E2EBFA;\n",
              "      box-shadow: 0px 1px 2px rgba(60, 64, 67, 0.3), 0px 1px 3px 1px rgba(60, 64, 67, 0.15);\n",
              "      fill: #174EA6;\n",
              "    }\n",
              "\n",
              "    [theme=dark] .colab-df-convert {\n",
              "      background-color: #3B4455;\n",
              "      fill: #D2E3FC;\n",
              "    }\n",
              "\n",
              "    [theme=dark] .colab-df-convert:hover {\n",
              "      background-color: #434B5C;\n",
              "      box-shadow: 0px 1px 3px 1px rgba(0, 0, 0, 0.15);\n",
              "      filter: drop-shadow(0px 1px 2px rgba(0, 0, 0, 0.3));\n",
              "      fill: #FFFFFF;\n",
              "    }\n",
              "  </style>\n",
              "\n",
              "      <script>\n",
              "        const buttonEl =\n",
              "          document.querySelector('#df-0a7e071e-d1e7-42fd-a830-25e6630d54de button.colab-df-convert');\n",
              "        buttonEl.style.display =\n",
              "          google.colab.kernel.accessAllowed ? 'block' : 'none';\n",
              "\n",
              "        async function convertToInteractive(key) {\n",
              "          const element = document.querySelector('#df-0a7e071e-d1e7-42fd-a830-25e6630d54de');\n",
              "          const dataTable =\n",
              "            await google.colab.kernel.invokeFunction('convertToInteractive',\n",
              "                                                     [key], {});\n",
              "          if (!dataTable) return;\n",
              "\n",
              "          const docLinkHtml = 'Like what you see? Visit the ' +\n",
              "            '<a target=\"_blank\" href=https://colab.research.google.com/notebooks/data_table.ipynb>data table notebook</a>'\n",
              "            + ' to learn more about interactive tables.';\n",
              "          element.innerHTML = '';\n",
              "          dataTable['output_type'] = 'display_data';\n",
              "          await google.colab.output.renderOutput(dataTable, element);\n",
              "          const docLink = document.createElement('div');\n",
              "          docLink.innerHTML = docLinkHtml;\n",
              "          element.appendChild(docLink);\n",
              "        }\n",
              "      </script>\n",
              "    </div>\n",
              "  </div>\n",
              "  "
            ]
          },
          "metadata": {},
          "execution_count": 138
        }
      ]
    },
    {
      "cell_type": "markdown",
      "source": [
        "Testiramo druge modele"
      ],
      "metadata": {
        "id": "EQ9xs8H0hsb3"
      }
    },
    {
      "cell_type": "code",
      "source": [
        "from xgboost import XGBClassifier\n",
        "xgb_clf = XGBClassifier()"
      ],
      "metadata": {
        "id": "5rA1o2GLTEuQ"
      },
      "execution_count": null,
      "outputs": []
    },
    {
      "cell_type": "code",
      "source": [
        "from sklearn.svm import SVC\n",
        "from sklearn.neighbors import KNeighborsClassifier\n",
        "knn = KNeighborsClassifier()\n",
        "from sklearn.ensemble import RandomForestClassifier\n",
        "rf_clf = RandomForestClassifier()"
      ],
      "metadata": {
        "id": "R5ZWngiPgzR3"
      },
      "execution_count": null,
      "outputs": []
    },
    {
      "cell_type": "code",
      "source": [
        "\n",
        "pipe_knn = make_pipeline(ct, knn)\n",
        "pipe_rf_clf =make_pipeline(ct, rf_clf)\n",
        "pipe_svc=make_pipeline(ct, SVC())\n",
        "pipe_xgb =make_pipeline(ct,xgb_clf )"
      ],
      "metadata": {
        "id": "sJPhyzE1kUCO"
      },
      "execution_count": null,
      "outputs": []
    },
    {
      "cell_type": "code",
      "source": [
        "cross_val_score(pipe_knn, X, y, cv=5, scoring='accuracy').mean()"
      ],
      "metadata": {
        "colab": {
          "base_uri": "https://localhost:8080/"
        },
        "id": "tu1-N36imA4X",
        "outputId": "86f8c6cc-6962-4ab3-cccd-43cbe4a475b9"
      },
      "execution_count": null,
      "outputs": [
        {
          "output_type": "execute_result",
          "data": {
            "text/plain": [
              "0.6156337465013995"
            ]
          },
          "metadata": {},
          "execution_count": 80
        }
      ]
    },
    {
      "cell_type": "code",
      "source": [
        "cross_val_score(pipe_rf_clf, X, y, cv=5, scoring='accuracy').mean()"
      ],
      "metadata": {
        "colab": {
          "base_uri": "https://localhost:8080/"
        },
        "id": "foHF-Re6mE2W",
        "outputId": "0c32a7b4-6cd7-4331-f54f-fc3c68855de2"
      },
      "execution_count": null,
      "outputs": [
        {
          "output_type": "execute_result",
          "data": {
            "text/plain": [
              "0.7817539650806344"
            ]
          },
          "metadata": {},
          "execution_count": 81
        }
      ]
    },
    {
      "cell_type": "code",
      "source": [
        "cross_val_score(pipe_svc, X, y, cv=5, scoring='accuracy').mean()"
      ],
      "metadata": {
        "colab": {
          "base_uri": "https://localhost:8080/"
        },
        "id": "hQQkPjsFpNRn",
        "outputId": "fdd82ec5-ef62-4cdf-e167-377ea7272257"
      },
      "execution_count": null,
      "outputs": [
        {
          "output_type": "execute_result",
          "data": {
            "text/plain": [
              "0.6872984139677463"
            ]
          },
          "metadata": {},
          "execution_count": 82
        }
      ]
    },
    {
      "cell_type": "code",
      "source": [
        "cross_val_score(pipe_xgb, X, y, cv=5, scoring='accuracy').mean()"
      ],
      "metadata": {
        "colab": {
          "base_uri": "https://localhost:8080/"
        },
        "id": "SHpvBNp9pQ-R",
        "outputId": "26ac0ef2-4404-4244-f6b9-5686d94c9912"
      },
      "execution_count": null,
      "outputs": [
        {
          "output_type": "execute_result",
          "data": {
            "text/plain": [
              "0.7899107023857124"
            ]
          },
          "metadata": {},
          "execution_count": 83
        }
      ]
    },
    {
      "cell_type": "code",
      "source": [
        "#hyperparameter tunning za xg classifier\n",
        "\n",
        "params3 = {\n",
        "        'xgbclassifier__min_child_weight': [1, 5, 10],\n",
        "        'xgbclassifier__gamma': [0.5, 1, 1.5, 2, 5],\n",
        "        'xgbclassifier__subsample': [0.6, 0.8, 1.0],\n",
        "        'xgbclassifier__colsample_bytree': [0.6, 0.8, 1.0],\n",
        "        'xgbclassifier__max_depth': [3, 4, 5]\n",
        "        }"
      ],
      "metadata": {
        "id": "wmmTmMHdtPEf"
      },
      "execution_count": null,
      "outputs": []
    },
    {
      "cell_type": "markdown",
      "source": [
        ""
      ],
      "metadata": {
        "id": "t1M5utgYNx4u"
      }
    },
    {
      "cell_type": "code",
      "source": [
        "params3"
      ],
      "metadata": {
        "colab": {
          "base_uri": "https://localhost:8080/"
        },
        "id": "UN5cpmeRFiuD",
        "outputId": "06bc5211-1c13-4398-8eb0-9154a7842535"
      },
      "execution_count": null,
      "outputs": [
        {
          "output_type": "execute_result",
          "data": {
            "text/plain": [
              "{'xgbclassifier_colsample_bytree': [0.6, 0.8, 1.0],\n",
              " 'xgbclassifier_gamma': [0.5, 1, 1.5, 2, 5],\n",
              " 'xgbclassifier_max_depth': [3, 4, 5],\n",
              " 'xgbclassifier_min_child_weight': [1, 5, 10],\n",
              " 'xgbclassifier_subsample': [0.6, 0.8, 1.0]}"
            ]
          },
          "metadata": {},
          "execution_count": 109
        }
      ]
    },
    {
      "cell_type": "code",
      "source": [
        "params"
      ],
      "metadata": {
        "colab": {
          "base_uri": "https://localhost:8080/"
        },
        "id": "tbbsNNHd1ZOd",
        "outputId": "063c8389-29f3-43d9-ad81-9caadf130bee"
      },
      "execution_count": null,
      "outputs": [
        {
          "output_type": "execute_result",
          "data": {
            "text/plain": [
              "{'logisticregression__C': [0.1, 1, 10], 'logisticregression__penalty': ['l2']}"
            ]
          },
          "metadata": {},
          "execution_count": 126
        }
      ]
    },
    {
      "cell_type": "code",
      "source": [
        "pipe2 =make_pipeline(ct,xgb_clf)"
      ],
      "metadata": {
        "id": "KTXem5HEHtIr"
      },
      "execution_count": null,
      "outputs": []
    },
    {
      "cell_type": "code",
      "source": [
        "pipe2.fit(X,y)"
      ],
      "metadata": {
        "colab": {
          "base_uri": "https://localhost:8080/"
        },
        "id": "JGqd9a0l1hwV",
        "outputId": "b1cb39da-d1ea-46b1-a6dd-2a1e0b8b5b50"
      },
      "execution_count": null,
      "outputs": [
        {
          "output_type": "execute_result",
          "data": {
            "text/plain": [
              "Pipeline(steps=[('columntransformer',\n",
              "                 ColumnTransformer(remainder='passthrough',\n",
              "                                   transformers=[('pipeline',\n",
              "                                                  Pipeline(steps=[('simpleimputer',\n",
              "                                                                   SimpleImputer(strategy='most_frequent')),\n",
              "                                                                  ('onehotencoder',\n",
              "                                                                   OneHotEncoder(handle_unknown='ignore'))]),\n",
              "                                                  ['Spol', 'Bračni_Status',\n",
              "                                                   'Broj_Djece', 'Fakultet',\n",
              "                                                   'Samo_Zaposlen',\n",
              "                                                   'Vremenski_Period',\n",
              "                                                   'Vrsta_Naselja',\n",
              "                                                   'Kreditna_Povijest']),\n",
              "                                                 ('simpleimputer',\n",
              "                                                  SimpleImputer(),\n",
              "                                                  ['Iznos_Kredita_PPP'])])),\n",
              "                ('xgbclassifier', XGBClassifier())])"
            ]
          },
          "metadata": {},
          "execution_count": 118
        }
      ]
    },
    {
      "cell_type": "code",
      "source": [
        "pipe2.predict(X_test)"
      ],
      "metadata": {
        "id": "4r-prJ2I71wA"
      },
      "execution_count": null,
      "outputs": []
    },
    {
      "cell_type": "code",
      "source": [
        "pipe2.score(X_test,y_test)"
      ],
      "metadata": {
        "colab": {
          "base_uri": "https://localhost:8080/"
        },
        "id": "TMdIHwpx75F8",
        "outputId": "2927963f-e1c7-454f-e1ec-07203ac21a92"
      },
      "execution_count": null,
      "outputs": [
        {
          "output_type": "execute_result",
          "data": {
            "text/plain": [
              "0.8896103896103896"
            ]
          },
          "metadata": {},
          "execution_count": 124
        }
      ]
    },
    {
      "cell_type": "code",
      "source": [
        "cross_val_score(pipe2, X, y, cv=5, scoring='accuracy').mean()"
      ],
      "metadata": {
        "colab": {
          "base_uri": "https://localhost:8080/"
        },
        "id": "qhe5S9FD16wk",
        "outputId": "455f868d-d822-4b7e-9bbb-caa813c669cb"
      },
      "execution_count": null,
      "outputs": [
        {
          "output_type": "execute_result",
          "data": {
            "text/plain": [
              "0.7899107023857124"
            ]
          },
          "metadata": {},
          "execution_count": 125
        }
      ]
    },
    {
      "cell_type": "code",
      "source": [
        "grid2 = GridSearchCV(estimator=pipe2, param_grid=params3, scoring='accuracy', n_jobs=4, cv=5, verbose=3 )"
      ],
      "metadata": {
        "id": "nDMjYxkkBJfc"
      },
      "execution_count": null,
      "outputs": []
    },
    {
      "cell_type": "code",
      "source": [
        "grid2.fit(X,y)"
      ],
      "metadata": {
        "colab": {
          "base_uri": "https://localhost:8080/"
        },
        "id": "nY54ecdJtUDZ",
        "outputId": "bddcae01-1709-46b5-da7e-2acc95cdb254"
      },
      "execution_count": null,
      "outputs": [
        {
          "output_type": "stream",
          "name": "stdout",
          "text": [
            "Fitting 5 folds for each of 405 candidates, totalling 2025 fits\n"
          ]
        },
        {
          "output_type": "execute_result",
          "data": {
            "text/plain": [
              "GridSearchCV(cv=5,\n",
              "             estimator=Pipeline(steps=[('columntransformer',\n",
              "                                        ColumnTransformer(remainder='passthrough',\n",
              "                                                          transformers=[('pipeline',\n",
              "                                                                         Pipeline(steps=[('simpleimputer',\n",
              "                                                                                          SimpleImputer(strategy='most_frequent')),\n",
              "                                                                                         ('onehotencoder',\n",
              "                                                                                          OneHotEncoder(handle_unknown='ignore'))]),\n",
              "                                                                         ['Spol',\n",
              "                                                                          'Bračni_Status',\n",
              "                                                                          'Broj_Djece',\n",
              "                                                                          'Fakultet',\n",
              "                                                                          'Samo_Zaposlen',\n",
              "                                                                          'Vremenski_Period',\n",
              "                                                                          '...\n",
              "                                                                        ('simpleimputer',\n",
              "                                                                         SimpleImputer(),\n",
              "                                                                         ['Iznos_Kredita_PPP'])])),\n",
              "                                       ('xgbclassifier', XGBClassifier())]),\n",
              "             n_jobs=4,\n",
              "             param_grid={'xgbclassifier__colsample_bytree': [0.6, 0.8, 1.0],\n",
              "                         'xgbclassifier__gamma': [0.5, 1, 1.5, 2, 5],\n",
              "                         'xgbclassifier__max_depth': [3, 4, 5],\n",
              "                         'xgbclassifier__min_child_weight': [1, 5, 10],\n",
              "                         'xgbclassifier__subsample': [0.6, 0.8, 1.0]},\n",
              "             scoring='accuracy', verbose=3)"
            ]
          },
          "metadata": {},
          "execution_count": 129
        }
      ]
    },
    {
      "cell_type": "code",
      "source": [
        "results2 = pd.DataFrame(grid2.cv_results_)\n",
        "results2"
      ],
      "metadata": {
        "colab": {
          "base_uri": "https://localhost:8080/",
          "height": 661
        },
        "id": "hUrl1ihO2U_i",
        "outputId": "65bc686f-a206-403a-d899-1ea658c9d0e9"
      },
      "execution_count": null,
      "outputs": [
        {
          "output_type": "execute_result",
          "data": {
            "text/plain": [
              "     mean_fit_time  std_fit_time  mean_score_time  std_score_time  \\\n",
              "0         0.268730      0.046983         0.025339        0.006811   \n",
              "1         0.209293      0.005567         0.032189        0.004654   \n",
              "2         0.197430      0.013377         0.024156        0.002702   \n",
              "3         0.214210      0.021101         0.031845        0.008255   \n",
              "4         0.199732      0.014149         0.031317        0.009171   \n",
              "..             ...           ...              ...             ...   \n",
              "400       0.340179      0.012668         0.026280        0.004866   \n",
              "401       0.331564      0.010374         0.031356        0.007023   \n",
              "402       0.284832      0.009019         0.028883        0.002725   \n",
              "403       0.297163      0.016258         0.026780        0.002183   \n",
              "404       0.265467      0.064289         0.015079        0.005928   \n",
              "\n",
              "    param_xgbclassifier__colsample_bytree param_xgbclassifier__gamma  \\\n",
              "0                                     0.6                        0.5   \n",
              "1                                     0.6                        0.5   \n",
              "2                                     0.6                        0.5   \n",
              "3                                     0.6                        0.5   \n",
              "4                                     0.6                        0.5   \n",
              "..                                    ...                        ...   \n",
              "400                                   1.0                          5   \n",
              "401                                   1.0                          5   \n",
              "402                                   1.0                          5   \n",
              "403                                   1.0                          5   \n",
              "404                                   1.0                          5   \n",
              "\n",
              "    param_xgbclassifier__max_depth param_xgbclassifier__min_child_weight  \\\n",
              "0                                3                                     1   \n",
              "1                                3                                     1   \n",
              "2                                3                                     1   \n",
              "3                                3                                     5   \n",
              "4                                3                                     5   \n",
              "..                             ...                                   ...   \n",
              "400                              5                                     5   \n",
              "401                              5                                     5   \n",
              "402                              5                                    10   \n",
              "403                              5                                    10   \n",
              "404                              5                                    10   \n",
              "\n",
              "    param_xgbclassifier__subsample  \\\n",
              "0                              0.6   \n",
              "1                              0.8   \n",
              "2                              1.0   \n",
              "3                              0.6   \n",
              "4                              0.8   \n",
              "..                             ...   \n",
              "400                            0.8   \n",
              "401                            1.0   \n",
              "402                            0.6   \n",
              "403                            0.8   \n",
              "404                            1.0   \n",
              "\n",
              "                                                params  split0_test_score  \\\n",
              "0    {'xgbclassifier__colsample_bytree': 0.6, 'xgbc...           0.764228   \n",
              "1    {'xgbclassifier__colsample_bytree': 0.6, 'xgbc...           0.756098   \n",
              "2    {'xgbclassifier__colsample_bytree': 0.6, 'xgbc...           0.788618   \n",
              "3    {'xgbclassifier__colsample_bytree': 0.6, 'xgbc...           0.788618   \n",
              "4    {'xgbclassifier__colsample_bytree': 0.6, 'xgbc...           0.780488   \n",
              "..                                                 ...                ...   \n",
              "400  {'xgbclassifier__colsample_bytree': 1.0, 'xgbc...           0.813008   \n",
              "401  {'xgbclassifier__colsample_bytree': 1.0, 'xgbc...           0.813008   \n",
              "402  {'xgbclassifier__colsample_bytree': 1.0, 'xgbc...           0.813008   \n",
              "403  {'xgbclassifier__colsample_bytree': 1.0, 'xgbc...           0.813008   \n",
              "404  {'xgbclassifier__colsample_bytree': 1.0, 'xgbc...           0.813008   \n",
              "\n",
              "     split1_test_score  split2_test_score  split3_test_score  \\\n",
              "0             0.756098           0.780488           0.837398   \n",
              "1             0.764228           0.772358           0.837398   \n",
              "2             0.772358           0.780488           0.837398   \n",
              "3             0.756098           0.780488           0.837398   \n",
              "4             0.772358           0.788618           0.837398   \n",
              "..                 ...                ...                ...   \n",
              "400           0.780488           0.780488           0.845528   \n",
              "401           0.780488           0.780488           0.853659   \n",
              "402           0.780488           0.780488           0.853659   \n",
              "403           0.780488           0.780488           0.853659   \n",
              "404           0.780488           0.780488           0.853659   \n",
              "\n",
              "     split4_test_score  mean_test_score  std_test_score  rank_test_score  \n",
              "0             0.803279         0.788298        0.029368              314  \n",
              "1             0.827869         0.791590        0.034038              290  \n",
              "2             0.811475         0.798067        0.023605              209  \n",
              "3             0.819672         0.796455        0.028846              228  \n",
              "4             0.827869         0.801346        0.026232              150  \n",
              "..                 ...              ...             ...              ...  \n",
              "400           0.819672         0.807837        0.024833               89  \n",
              "401           0.819672         0.809463        0.027383               17  \n",
              "402           0.819672         0.809463        0.027383               17  \n",
              "403           0.819672         0.809463        0.027383               17  \n",
              "404           0.819672         0.809463        0.027383               17  \n",
              "\n",
              "[405 rows x 18 columns]"
            ],
            "text/html": [
              "\n",
              "  <div id=\"df-d6474e02-2430-4caf-b3aa-3f277b77690b\">\n",
              "    <div class=\"colab-df-container\">\n",
              "      <div>\n",
              "<style scoped>\n",
              "    .dataframe tbody tr th:only-of-type {\n",
              "        vertical-align: middle;\n",
              "    }\n",
              "\n",
              "    .dataframe tbody tr th {\n",
              "        vertical-align: top;\n",
              "    }\n",
              "\n",
              "    .dataframe thead th {\n",
              "        text-align: right;\n",
              "    }\n",
              "</style>\n",
              "<table border=\"1\" class=\"dataframe\">\n",
              "  <thead>\n",
              "    <tr style=\"text-align: right;\">\n",
              "      <th></th>\n",
              "      <th>mean_fit_time</th>\n",
              "      <th>std_fit_time</th>\n",
              "      <th>mean_score_time</th>\n",
              "      <th>std_score_time</th>\n",
              "      <th>param_xgbclassifier__colsample_bytree</th>\n",
              "      <th>param_xgbclassifier__gamma</th>\n",
              "      <th>param_xgbclassifier__max_depth</th>\n",
              "      <th>param_xgbclassifier__min_child_weight</th>\n",
              "      <th>param_xgbclassifier__subsample</th>\n",
              "      <th>params</th>\n",
              "      <th>split0_test_score</th>\n",
              "      <th>split1_test_score</th>\n",
              "      <th>split2_test_score</th>\n",
              "      <th>split3_test_score</th>\n",
              "      <th>split4_test_score</th>\n",
              "      <th>mean_test_score</th>\n",
              "      <th>std_test_score</th>\n",
              "      <th>rank_test_score</th>\n",
              "    </tr>\n",
              "  </thead>\n",
              "  <tbody>\n",
              "    <tr>\n",
              "      <th>0</th>\n",
              "      <td>0.268730</td>\n",
              "      <td>0.046983</td>\n",
              "      <td>0.025339</td>\n",
              "      <td>0.006811</td>\n",
              "      <td>0.6</td>\n",
              "      <td>0.5</td>\n",
              "      <td>3</td>\n",
              "      <td>1</td>\n",
              "      <td>0.6</td>\n",
              "      <td>{'xgbclassifier__colsample_bytree': 0.6, 'xgbc...</td>\n",
              "      <td>0.764228</td>\n",
              "      <td>0.756098</td>\n",
              "      <td>0.780488</td>\n",
              "      <td>0.837398</td>\n",
              "      <td>0.803279</td>\n",
              "      <td>0.788298</td>\n",
              "      <td>0.029368</td>\n",
              "      <td>314</td>\n",
              "    </tr>\n",
              "    <tr>\n",
              "      <th>1</th>\n",
              "      <td>0.209293</td>\n",
              "      <td>0.005567</td>\n",
              "      <td>0.032189</td>\n",
              "      <td>0.004654</td>\n",
              "      <td>0.6</td>\n",
              "      <td>0.5</td>\n",
              "      <td>3</td>\n",
              "      <td>1</td>\n",
              "      <td>0.8</td>\n",
              "      <td>{'xgbclassifier__colsample_bytree': 0.6, 'xgbc...</td>\n",
              "      <td>0.756098</td>\n",
              "      <td>0.764228</td>\n",
              "      <td>0.772358</td>\n",
              "      <td>0.837398</td>\n",
              "      <td>0.827869</td>\n",
              "      <td>0.791590</td>\n",
              "      <td>0.034038</td>\n",
              "      <td>290</td>\n",
              "    </tr>\n",
              "    <tr>\n",
              "      <th>2</th>\n",
              "      <td>0.197430</td>\n",
              "      <td>0.013377</td>\n",
              "      <td>0.024156</td>\n",
              "      <td>0.002702</td>\n",
              "      <td>0.6</td>\n",
              "      <td>0.5</td>\n",
              "      <td>3</td>\n",
              "      <td>1</td>\n",
              "      <td>1.0</td>\n",
              "      <td>{'xgbclassifier__colsample_bytree': 0.6, 'xgbc...</td>\n",
              "      <td>0.788618</td>\n",
              "      <td>0.772358</td>\n",
              "      <td>0.780488</td>\n",
              "      <td>0.837398</td>\n",
              "      <td>0.811475</td>\n",
              "      <td>0.798067</td>\n",
              "      <td>0.023605</td>\n",
              "      <td>209</td>\n",
              "    </tr>\n",
              "    <tr>\n",
              "      <th>3</th>\n",
              "      <td>0.214210</td>\n",
              "      <td>0.021101</td>\n",
              "      <td>0.031845</td>\n",
              "      <td>0.008255</td>\n",
              "      <td>0.6</td>\n",
              "      <td>0.5</td>\n",
              "      <td>3</td>\n",
              "      <td>5</td>\n",
              "      <td>0.6</td>\n",
              "      <td>{'xgbclassifier__colsample_bytree': 0.6, 'xgbc...</td>\n",
              "      <td>0.788618</td>\n",
              "      <td>0.756098</td>\n",
              "      <td>0.780488</td>\n",
              "      <td>0.837398</td>\n",
              "      <td>0.819672</td>\n",
              "      <td>0.796455</td>\n",
              "      <td>0.028846</td>\n",
              "      <td>228</td>\n",
              "    </tr>\n",
              "    <tr>\n",
              "      <th>4</th>\n",
              "      <td>0.199732</td>\n",
              "      <td>0.014149</td>\n",
              "      <td>0.031317</td>\n",
              "      <td>0.009171</td>\n",
              "      <td>0.6</td>\n",
              "      <td>0.5</td>\n",
              "      <td>3</td>\n",
              "      <td>5</td>\n",
              "      <td>0.8</td>\n",
              "      <td>{'xgbclassifier__colsample_bytree': 0.6, 'xgbc...</td>\n",
              "      <td>0.780488</td>\n",
              "      <td>0.772358</td>\n",
              "      <td>0.788618</td>\n",
              "      <td>0.837398</td>\n",
              "      <td>0.827869</td>\n",
              "      <td>0.801346</td>\n",
              "      <td>0.026232</td>\n",
              "      <td>150</td>\n",
              "    </tr>\n",
              "    <tr>\n",
              "      <th>...</th>\n",
              "      <td>...</td>\n",
              "      <td>...</td>\n",
              "      <td>...</td>\n",
              "      <td>...</td>\n",
              "      <td>...</td>\n",
              "      <td>...</td>\n",
              "      <td>...</td>\n",
              "      <td>...</td>\n",
              "      <td>...</td>\n",
              "      <td>...</td>\n",
              "      <td>...</td>\n",
              "      <td>...</td>\n",
              "      <td>...</td>\n",
              "      <td>...</td>\n",
              "      <td>...</td>\n",
              "      <td>...</td>\n",
              "      <td>...</td>\n",
              "      <td>...</td>\n",
              "    </tr>\n",
              "    <tr>\n",
              "      <th>400</th>\n",
              "      <td>0.340179</td>\n",
              "      <td>0.012668</td>\n",
              "      <td>0.026280</td>\n",
              "      <td>0.004866</td>\n",
              "      <td>1.0</td>\n",
              "      <td>5</td>\n",
              "      <td>5</td>\n",
              "      <td>5</td>\n",
              "      <td>0.8</td>\n",
              "      <td>{'xgbclassifier__colsample_bytree': 1.0, 'xgbc...</td>\n",
              "      <td>0.813008</td>\n",
              "      <td>0.780488</td>\n",
              "      <td>0.780488</td>\n",
              "      <td>0.845528</td>\n",
              "      <td>0.819672</td>\n",
              "      <td>0.807837</td>\n",
              "      <td>0.024833</td>\n",
              "      <td>89</td>\n",
              "    </tr>\n",
              "    <tr>\n",
              "      <th>401</th>\n",
              "      <td>0.331564</td>\n",
              "      <td>0.010374</td>\n",
              "      <td>0.031356</td>\n",
              "      <td>0.007023</td>\n",
              "      <td>1.0</td>\n",
              "      <td>5</td>\n",
              "      <td>5</td>\n",
              "      <td>5</td>\n",
              "      <td>1.0</td>\n",
              "      <td>{'xgbclassifier__colsample_bytree': 1.0, 'xgbc...</td>\n",
              "      <td>0.813008</td>\n",
              "      <td>0.780488</td>\n",
              "      <td>0.780488</td>\n",
              "      <td>0.853659</td>\n",
              "      <td>0.819672</td>\n",
              "      <td>0.809463</td>\n",
              "      <td>0.027383</td>\n",
              "      <td>17</td>\n",
              "    </tr>\n",
              "    <tr>\n",
              "      <th>402</th>\n",
              "      <td>0.284832</td>\n",
              "      <td>0.009019</td>\n",
              "      <td>0.028883</td>\n",
              "      <td>0.002725</td>\n",
              "      <td>1.0</td>\n",
              "      <td>5</td>\n",
              "      <td>5</td>\n",
              "      <td>10</td>\n",
              "      <td>0.6</td>\n",
              "      <td>{'xgbclassifier__colsample_bytree': 1.0, 'xgbc...</td>\n",
              "      <td>0.813008</td>\n",
              "      <td>0.780488</td>\n",
              "      <td>0.780488</td>\n",
              "      <td>0.853659</td>\n",
              "      <td>0.819672</td>\n",
              "      <td>0.809463</td>\n",
              "      <td>0.027383</td>\n",
              "      <td>17</td>\n",
              "    </tr>\n",
              "    <tr>\n",
              "      <th>403</th>\n",
              "      <td>0.297163</td>\n",
              "      <td>0.016258</td>\n",
              "      <td>0.026780</td>\n",
              "      <td>0.002183</td>\n",
              "      <td>1.0</td>\n",
              "      <td>5</td>\n",
              "      <td>5</td>\n",
              "      <td>10</td>\n",
              "      <td>0.8</td>\n",
              "      <td>{'xgbclassifier__colsample_bytree': 1.0, 'xgbc...</td>\n",
              "      <td>0.813008</td>\n",
              "      <td>0.780488</td>\n",
              "      <td>0.780488</td>\n",
              "      <td>0.853659</td>\n",
              "      <td>0.819672</td>\n",
              "      <td>0.809463</td>\n",
              "      <td>0.027383</td>\n",
              "      <td>17</td>\n",
              "    </tr>\n",
              "    <tr>\n",
              "      <th>404</th>\n",
              "      <td>0.265467</td>\n",
              "      <td>0.064289</td>\n",
              "      <td>0.015079</td>\n",
              "      <td>0.005928</td>\n",
              "      <td>1.0</td>\n",
              "      <td>5</td>\n",
              "      <td>5</td>\n",
              "      <td>10</td>\n",
              "      <td>1.0</td>\n",
              "      <td>{'xgbclassifier__colsample_bytree': 1.0, 'xgbc...</td>\n",
              "      <td>0.813008</td>\n",
              "      <td>0.780488</td>\n",
              "      <td>0.780488</td>\n",
              "      <td>0.853659</td>\n",
              "      <td>0.819672</td>\n",
              "      <td>0.809463</td>\n",
              "      <td>0.027383</td>\n",
              "      <td>17</td>\n",
              "    </tr>\n",
              "  </tbody>\n",
              "</table>\n",
              "<p>405 rows × 18 columns</p>\n",
              "</div>\n",
              "      <button class=\"colab-df-convert\" onclick=\"convertToInteractive('df-d6474e02-2430-4caf-b3aa-3f277b77690b')\"\n",
              "              title=\"Convert this dataframe to an interactive table.\"\n",
              "              style=\"display:none;\">\n",
              "        \n",
              "  <svg xmlns=\"http://www.w3.org/2000/svg\" height=\"24px\"viewBox=\"0 0 24 24\"\n",
              "       width=\"24px\">\n",
              "    <path d=\"M0 0h24v24H0V0z\" fill=\"none\"/>\n",
              "    <path d=\"M18.56 5.44l.94 2.06.94-2.06 2.06-.94-2.06-.94-.94-2.06-.94 2.06-2.06.94zm-11 1L8.5 8.5l.94-2.06 2.06-.94-2.06-.94L8.5 2.5l-.94 2.06-2.06.94zm10 10l.94 2.06.94-2.06 2.06-.94-2.06-.94-.94-2.06-.94 2.06-2.06.94z\"/><path d=\"M17.41 7.96l-1.37-1.37c-.4-.4-.92-.59-1.43-.59-.52 0-1.04.2-1.43.59L10.3 9.45l-7.72 7.72c-.78.78-.78 2.05 0 2.83L4 21.41c.39.39.9.59 1.41.59.51 0 1.02-.2 1.41-.59l7.78-7.78 2.81-2.81c.8-.78.8-2.07 0-2.86zM5.41 20L4 18.59l7.72-7.72 1.47 1.35L5.41 20z\"/>\n",
              "  </svg>\n",
              "      </button>\n",
              "      \n",
              "  <style>\n",
              "    .colab-df-container {\n",
              "      display:flex;\n",
              "      flex-wrap:wrap;\n",
              "      gap: 12px;\n",
              "    }\n",
              "\n",
              "    .colab-df-convert {\n",
              "      background-color: #E8F0FE;\n",
              "      border: none;\n",
              "      border-radius: 50%;\n",
              "      cursor: pointer;\n",
              "      display: none;\n",
              "      fill: #1967D2;\n",
              "      height: 32px;\n",
              "      padding: 0 0 0 0;\n",
              "      width: 32px;\n",
              "    }\n",
              "\n",
              "    .colab-df-convert:hover {\n",
              "      background-color: #E2EBFA;\n",
              "      box-shadow: 0px 1px 2px rgba(60, 64, 67, 0.3), 0px 1px 3px 1px rgba(60, 64, 67, 0.15);\n",
              "      fill: #174EA6;\n",
              "    }\n",
              "\n",
              "    [theme=dark] .colab-df-convert {\n",
              "      background-color: #3B4455;\n",
              "      fill: #D2E3FC;\n",
              "    }\n",
              "\n",
              "    [theme=dark] .colab-df-convert:hover {\n",
              "      background-color: #434B5C;\n",
              "      box-shadow: 0px 1px 3px 1px rgba(0, 0, 0, 0.15);\n",
              "      filter: drop-shadow(0px 1px 2px rgba(0, 0, 0, 0.3));\n",
              "      fill: #FFFFFF;\n",
              "    }\n",
              "  </style>\n",
              "\n",
              "      <script>\n",
              "        const buttonEl =\n",
              "          document.querySelector('#df-d6474e02-2430-4caf-b3aa-3f277b77690b button.colab-df-convert');\n",
              "        buttonEl.style.display =\n",
              "          google.colab.kernel.accessAllowed ? 'block' : 'none';\n",
              "\n",
              "        async function convertToInteractive(key) {\n",
              "          const element = document.querySelector('#df-d6474e02-2430-4caf-b3aa-3f277b77690b');\n",
              "          const dataTable =\n",
              "            await google.colab.kernel.invokeFunction('convertToInteractive',\n",
              "                                                     [key], {});\n",
              "          if (!dataTable) return;\n",
              "\n",
              "          const docLinkHtml = 'Like what you see? Visit the ' +\n",
              "            '<a target=\"_blank\" href=https://colab.research.google.com/notebooks/data_table.ipynb>data table notebook</a>'\n",
              "            + ' to learn more about interactive tables.';\n",
              "          element.innerHTML = '';\n",
              "          dataTable['output_type'] = 'display_data';\n",
              "          await google.colab.output.renderOutput(dataTable, element);\n",
              "          const docLink = document.createElement('div');\n",
              "          docLink.innerHTML = docLinkHtml;\n",
              "          element.appendChild(docLink);\n",
              "        }\n",
              "      </script>\n",
              "    </div>\n",
              "  </div>\n",
              "  "
            ]
          },
          "metadata": {},
          "execution_count": 130
        }
      ]
    },
    {
      "cell_type": "code",
      "source": [
        "grid2.best_params_"
      ],
      "metadata": {
        "colab": {
          "base_uri": "https://localhost:8080/"
        },
        "id": "oo-wfwjN9wgt",
        "outputId": "6a0b1a27-b706-4d2c-db1c-1c50222d53f2"
      },
      "execution_count": null,
      "outputs": [
        {
          "output_type": "execute_result",
          "data": {
            "text/plain": [
              "{'xgbclassifier__colsample_bytree': 1.0,\n",
              " 'xgbclassifier__gamma': 5,\n",
              " 'xgbclassifier__max_depth': 5,\n",
              " 'xgbclassifier__min_child_weight': 1,\n",
              " 'xgbclassifier__subsample': 0.6}"
            ]
          },
          "metadata": {},
          "execution_count": 132
        }
      ]
    },
    {
      "cell_type": "code",
      "source": [
        ""
      ],
      "metadata": {
        "id": "hgIAj9p59zd4"
      },
      "execution_count": null,
      "outputs": []
    }
  ]
}